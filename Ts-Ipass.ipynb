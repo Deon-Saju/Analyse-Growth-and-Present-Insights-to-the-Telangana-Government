{
 "cells": [
  {
   "cell_type": "code",
   "execution_count": 28,
   "metadata": {},
   "outputs": [],
   "source": [
    "import pandas as pd\n",
    "import numpy as np\n",
    "import warnings\n",
    "warnings.filterwarnings(\"ignore\")"
   ]
  },
  {
   "cell_type": "code",
   "execution_count": 29,
   "metadata": {},
   "outputs": [],
   "source": [
    "import matplotlib.pyplot as plt\n",
    "import seaborn as sns\n",
    "import plotly.express as px"
   ]
  },
  {
   "cell_type": "code",
   "execution_count": 30,
   "metadata": {},
   "outputs": [],
   "source": [
    "date = pd.read_csv(r\"D:\\C7 Input Files\\dataset\\dim_date.csv\")\n",
    "district = pd.read_csv(r\"D:\\C7 Input Files\\dataset\\dim_districts.csv\")\n",
    "lpass = pd.read_csv(r\"D:\\C7 Input Files\\dataset\\fact_TS_iPASS.csv\")"
   ]
  },
  {
   "cell_type": "code",
   "execution_count": 31,
   "metadata": {},
   "outputs": [],
   "source": [
    "date['month'] = pd.to_datetime(date['month'])\n",
    "date['fiscal_year'] = pd.to_datetime(date['fiscal_year'].astype(str) + '-04-01')"
   ]
  },
  {
   "cell_type": "code",
   "execution_count": 32,
   "metadata": {},
   "outputs": [
    {
     "data": {
      "text/html": [
       "<div>\n",
       "<style scoped>\n",
       "    .dataframe tbody tr th:only-of-type {\n",
       "        vertical-align: middle;\n",
       "    }\n",
       "\n",
       "    .dataframe tbody tr th {\n",
       "        vertical-align: top;\n",
       "    }\n",
       "\n",
       "    .dataframe thead th {\n",
       "        text-align: right;\n",
       "    }\n",
       "</style>\n",
       "<table border=\"1\" class=\"dataframe\">\n",
       "  <thead>\n",
       "    <tr style=\"text-align: right;\">\n",
       "      <th></th>\n",
       "      <th>dist_code</th>\n",
       "      <th>month</th>\n",
       "      <th>sector</th>\n",
       "      <th>investment in cr</th>\n",
       "      <th>number_of_employees</th>\n",
       "    </tr>\n",
       "  </thead>\n",
       "  <tbody>\n",
       "    <tr>\n",
       "      <th>0</th>\n",
       "      <td>14_1</td>\n",
       "      <td>01-04-2019</td>\n",
       "      <td>Engineering</td>\n",
       "      <td>2.3200</td>\n",
       "      <td>15</td>\n",
       "    </tr>\n",
       "    <tr>\n",
       "      <th>1</th>\n",
       "      <td>19_1</td>\n",
       "      <td>01-04-2019</td>\n",
       "      <td>Engineering</td>\n",
       "      <td>0.6250</td>\n",
       "      <td>13</td>\n",
       "    </tr>\n",
       "    <tr>\n",
       "      <th>2</th>\n",
       "      <td>20_3</td>\n",
       "      <td>01-04-2019</td>\n",
       "      <td>Wood and Leather</td>\n",
       "      <td>0.2000</td>\n",
       "      <td>8</td>\n",
       "    </tr>\n",
       "    <tr>\n",
       "      <th>3</th>\n",
       "      <td>20_3</td>\n",
       "      <td>01-04-2019</td>\n",
       "      <td>Textiles</td>\n",
       "      <td>0.2675</td>\n",
       "      <td>27</td>\n",
       "    </tr>\n",
       "    <tr>\n",
       "      <th>4</th>\n",
       "      <td>21_5</td>\n",
       "      <td>01-04-2019</td>\n",
       "      <td>Electrical and Electronic Products</td>\n",
       "      <td>0.1200</td>\n",
       "      <td>5</td>\n",
       "    </tr>\n",
       "    <tr>\n",
       "      <th>...</th>\n",
       "      <td>...</td>\n",
       "      <td>...</td>\n",
       "      <td>...</td>\n",
       "      <td>...</td>\n",
       "      <td>...</td>\n",
       "    </tr>\n",
       "    <tr>\n",
       "      <th>5748</th>\n",
       "      <td>20_4</td>\n",
       "      <td>01-03-2023</td>\n",
       "      <td>Engineering</td>\n",
       "      <td>0.1200</td>\n",
       "      <td>3</td>\n",
       "    </tr>\n",
       "    <tr>\n",
       "      <th>5749</th>\n",
       "      <td>20_4</td>\n",
       "      <td>01-03-2023</td>\n",
       "      <td>Food Processing</td>\n",
       "      <td>0.7509</td>\n",
       "      <td>9</td>\n",
       "    </tr>\n",
       "    <tr>\n",
       "      <th>5750</th>\n",
       "      <td>20_4</td>\n",
       "      <td>01-03-2023</td>\n",
       "      <td>Others</td>\n",
       "      <td>7.7500</td>\n",
       "      <td>10</td>\n",
       "    </tr>\n",
       "    <tr>\n",
       "      <th>5751</th>\n",
       "      <td>21_1</td>\n",
       "      <td>01-03-2023</td>\n",
       "      <td>Food Processing</td>\n",
       "      <td>0.3200</td>\n",
       "      <td>9</td>\n",
       "    </tr>\n",
       "    <tr>\n",
       "      <th>5752</th>\n",
       "      <td>20_2</td>\n",
       "      <td>01-03-2023</td>\n",
       "      <td>Food Processing</td>\n",
       "      <td>4.7451</td>\n",
       "      <td>68</td>\n",
       "    </tr>\n",
       "  </tbody>\n",
       "</table>\n",
       "<p>5753 rows × 5 columns</p>\n",
       "</div>"
      ],
      "text/plain": [
       "     dist_code       month                              sector  \\\n",
       "0         14_1  01-04-2019                         Engineering   \n",
       "1         19_1  01-04-2019                         Engineering   \n",
       "2         20_3  01-04-2019                    Wood and Leather   \n",
       "3         20_3  01-04-2019                            Textiles   \n",
       "4         21_5  01-04-2019  Electrical and Electronic Products   \n",
       "...        ...         ...                                 ...   \n",
       "5748      20_4  01-03-2023                         Engineering   \n",
       "5749      20_4  01-03-2023                     Food Processing   \n",
       "5750      20_4  01-03-2023                              Others   \n",
       "5751      21_1  01-03-2023                     Food Processing   \n",
       "5752      20_2  01-03-2023                     Food Processing   \n",
       "\n",
       "      investment in cr  number_of_employees  \n",
       "0               2.3200                   15  \n",
       "1               0.6250                   13  \n",
       "2               0.2000                    8  \n",
       "3               0.2675                   27  \n",
       "4               0.1200                    5  \n",
       "...                ...                  ...  \n",
       "5748            0.1200                    3  \n",
       "5749            0.7509                    9  \n",
       "5750            7.7500                   10  \n",
       "5751            0.3200                    9  \n",
       "5752            4.7451                   68  \n",
       "\n",
       "[5753 rows x 5 columns]"
      ]
     },
     "execution_count": 32,
     "metadata": {},
     "output_type": "execute_result"
    }
   ],
   "source": [
    "lpass"
   ]
  },
  {
   "cell_type": "code",
   "execution_count": 33,
   "metadata": {},
   "outputs": [],
   "source": [
    "lpass['month'] = pd.to_datetime(lpass['month'])"
   ]
  },
  {
   "cell_type": "code",
   "execution_count": 34,
   "metadata": {},
   "outputs": [
    {
     "data": {
      "text/html": [
       "<div>\n",
       "<style scoped>\n",
       "    .dataframe tbody tr th:only-of-type {\n",
       "        vertical-align: middle;\n",
       "    }\n",
       "\n",
       "    .dataframe tbody tr th {\n",
       "        vertical-align: top;\n",
       "    }\n",
       "\n",
       "    .dataframe thead th {\n",
       "        text-align: right;\n",
       "    }\n",
       "</style>\n",
       "<table border=\"1\" class=\"dataframe\">\n",
       "  <thead>\n",
       "    <tr style=\"text-align: right;\">\n",
       "      <th></th>\n",
       "      <th>dist_code</th>\n",
       "      <th>district</th>\n",
       "      <th>month</th>\n",
       "      <th>sector</th>\n",
       "      <th>investment in cr</th>\n",
       "      <th>number_of_employees</th>\n",
       "    </tr>\n",
       "  </thead>\n",
       "  <tbody>\n",
       "    <tr>\n",
       "      <th>0</th>\n",
       "      <td>19_1</td>\n",
       "      <td>Adilabad</td>\n",
       "      <td>2019-01-04</td>\n",
       "      <td>Engineering</td>\n",
       "      <td>0.6250</td>\n",
       "      <td>13</td>\n",
       "    </tr>\n",
       "    <tr>\n",
       "      <th>1</th>\n",
       "      <td>19_1</td>\n",
       "      <td>Adilabad</td>\n",
       "      <td>2019-01-04</td>\n",
       "      <td>Cement, Cement &amp; Concrete Products, Fly Ash Br...</td>\n",
       "      <td>19.3702</td>\n",
       "      <td>99</td>\n",
       "    </tr>\n",
       "    <tr>\n",
       "      <th>2</th>\n",
       "      <td>19_1</td>\n",
       "      <td>Adilabad</td>\n",
       "      <td>2019-01-04</td>\n",
       "      <td>Food Processing</td>\n",
       "      <td>0.0980</td>\n",
       "      <td>7</td>\n",
       "    </tr>\n",
       "    <tr>\n",
       "      <th>3</th>\n",
       "      <td>19_1</td>\n",
       "      <td>Adilabad</td>\n",
       "      <td>2019-01-07</td>\n",
       "      <td>Beverages</td>\n",
       "      <td>0.1300</td>\n",
       "      <td>3</td>\n",
       "    </tr>\n",
       "    <tr>\n",
       "      <th>4</th>\n",
       "      <td>19_1</td>\n",
       "      <td>Adilabad</td>\n",
       "      <td>2019-01-07</td>\n",
       "      <td>Cement, Cement &amp; Concrete Products, Fly Ash Br...</td>\n",
       "      <td>0.7300</td>\n",
       "      <td>10</td>\n",
       "    </tr>\n",
       "    <tr>\n",
       "      <th>...</th>\n",
       "      <td>...</td>\n",
       "      <td>...</td>\n",
       "      <td>...</td>\n",
       "      <td>...</td>\n",
       "      <td>...</td>\n",
       "      <td>...</td>\n",
       "    </tr>\n",
       "    <tr>\n",
       "      <th>5748</th>\n",
       "      <td>23_3</td>\n",
       "      <td>Yadadri Bhuvanagiri</td>\n",
       "      <td>2023-01-03</td>\n",
       "      <td>Fertlizers Organic and Inorganic,Pesticides,In...</td>\n",
       "      <td>1.2500</td>\n",
       "      <td>24</td>\n",
       "    </tr>\n",
       "    <tr>\n",
       "      <th>5749</th>\n",
       "      <td>23_3</td>\n",
       "      <td>Yadadri Bhuvanagiri</td>\n",
       "      <td>2023-01-03</td>\n",
       "      <td>Food Processing</td>\n",
       "      <td>15.4500</td>\n",
       "      <td>24</td>\n",
       "    </tr>\n",
       "    <tr>\n",
       "      <th>5750</th>\n",
       "      <td>23_3</td>\n",
       "      <td>Yadadri Bhuvanagiri</td>\n",
       "      <td>2023-01-03</td>\n",
       "      <td>Pharmaceuticals and Chemicals</td>\n",
       "      <td>1.2800</td>\n",
       "      <td>18</td>\n",
       "    </tr>\n",
       "    <tr>\n",
       "      <th>5751</th>\n",
       "      <td>23_3</td>\n",
       "      <td>Yadadri Bhuvanagiri</td>\n",
       "      <td>2023-01-03</td>\n",
       "      <td>Plastic and Rubber</td>\n",
       "      <td>0.4500</td>\n",
       "      <td>9</td>\n",
       "    </tr>\n",
       "    <tr>\n",
       "      <th>5752</th>\n",
       "      <td>23_3</td>\n",
       "      <td>Yadadri Bhuvanagiri</td>\n",
       "      <td>2023-01-03</td>\n",
       "      <td>Textiles</td>\n",
       "      <td>0.6629</td>\n",
       "      <td>13</td>\n",
       "    </tr>\n",
       "  </tbody>\n",
       "</table>\n",
       "<p>5753 rows × 6 columns</p>\n",
       "</div>"
      ],
      "text/plain": [
       "     dist_code             district      month  \\\n",
       "0         19_1             Adilabad 2019-01-04   \n",
       "1         19_1             Adilabad 2019-01-04   \n",
       "2         19_1             Adilabad 2019-01-04   \n",
       "3         19_1             Adilabad 2019-01-07   \n",
       "4         19_1             Adilabad 2019-01-07   \n",
       "...        ...                  ...        ...   \n",
       "5748      23_3  Yadadri Bhuvanagiri 2023-01-03   \n",
       "5749      23_3  Yadadri Bhuvanagiri 2023-01-03   \n",
       "5750      23_3  Yadadri Bhuvanagiri 2023-01-03   \n",
       "5751      23_3  Yadadri Bhuvanagiri 2023-01-03   \n",
       "5752      23_3  Yadadri Bhuvanagiri 2023-01-03   \n",
       "\n",
       "                                                 sector  investment in cr  \\\n",
       "0                                           Engineering            0.6250   \n",
       "1     Cement, Cement & Concrete Products, Fly Ash Br...           19.3702   \n",
       "2                                       Food Processing            0.0980   \n",
       "3                                             Beverages            0.1300   \n",
       "4     Cement, Cement & Concrete Products, Fly Ash Br...            0.7300   \n",
       "...                                                 ...               ...   \n",
       "5748  Fertlizers Organic and Inorganic,Pesticides,In...            1.2500   \n",
       "5749                                    Food Processing           15.4500   \n",
       "5750                      Pharmaceuticals and Chemicals            1.2800   \n",
       "5751                                 Plastic and Rubber            0.4500   \n",
       "5752                                           Textiles            0.6629   \n",
       "\n",
       "      number_of_employees  \n",
       "0                      13  \n",
       "1                      99  \n",
       "2                       7  \n",
       "3                       3  \n",
       "4                      10  \n",
       "...                   ...  \n",
       "5748                   24  \n",
       "5749                   24  \n",
       "5750                   18  \n",
       "5751                    9  \n",
       "5752                   13  \n",
       "\n",
       "[5753 rows x 6 columns]"
      ]
     },
     "execution_count": 34,
     "metadata": {},
     "output_type": "execute_result"
    }
   ],
   "source": [
    "merged_lpass = pd.merge(district, lpass, on='dist_code', how='outer')\n",
    "merged_lpass"
   ]
  },
  {
   "cell_type": "code",
   "execution_count": 35,
   "metadata": {},
   "outputs": [
    {
     "name": "stdout",
     "output_type": "stream",
     "text": [
      "<class 'pandas.core.frame.DataFrame'>\n",
      "RangeIndex: 5753 entries, 0 to 5752\n",
      "Data columns (total 6 columns):\n",
      " #   Column               Non-Null Count  Dtype         \n",
      "---  ------               --------------  -----         \n",
      " 0   dist_code            5753 non-null   object        \n",
      " 1   district             5753 non-null   object        \n",
      " 2   month                5753 non-null   datetime64[ns]\n",
      " 3   sector               5753 non-null   object        \n",
      " 4   investment in cr     5753 non-null   float64       \n",
      " 5   number_of_employees  5753 non-null   int64         \n",
      "dtypes: datetime64[ns](1), float64(1), int64(1), object(3)\n",
      "memory usage: 269.8+ KB\n"
     ]
    }
   ],
   "source": [
    "merged_lpass.info()"
   ]
  },
  {
   "cell_type": "code",
   "execution_count": 36,
   "metadata": {},
   "outputs": [
    {
     "data": {
      "text/plain": [
       "sector\n",
       "Food Processing                                                                1065\n",
       "Engineering                                                                     692\n",
       "Cement, Cement & Concrete Products, Fly Ash Bricks                              659\n",
       "Agro based incl Cold Storages                                                   579\n",
       "Granite and Stone Crushing                                                      432\n",
       "Pharmaceuticals and Chemicals                                                   353\n",
       "Plastic and Rubber                                                              328\n",
       "Others                                                                          301\n",
       "Beverages                                                                       274\n",
       "Wood and Leather                                                                233\n",
       "Textiles                                                                        209\n",
       "Paper and Printing                                                              203\n",
       "Electrical and Electronic Products                                              124\n",
       "R&D                                                                             123\n",
       "Fertlizers Organic and Inorganic,Pesticides,Insecticides, and Other Related      88\n",
       "Solar and Other Renewable Energy                                                 43\n",
       "Real Estate,Industrial Parks and IT Buildings                                    29\n",
       "Automobile                                                                       16\n",
       "Industrial Parks and IT Buildings                                                 1\n",
       "Thermal Power Plant                                                               1\n",
       "Name: count, dtype: int64"
      ]
     },
     "execution_count": 36,
     "metadata": {},
     "output_type": "execute_result"
    }
   ],
   "source": [
    "merged_lpass['sector'].value_counts()"
   ]
  },
  {
   "cell_type": "code",
   "execution_count": 37,
   "metadata": {},
   "outputs": [],
   "source": [
    "# Group data by sector and calculate total investment\n",
    "top_sectors = merged_lpass.groupby('sector')['investment in cr'].sum()"
   ]
  },
  {
   "cell_type": "code",
   "execution_count": 38,
   "metadata": {},
   "outputs": [
    {
     "data": {
      "text/plain": [
       "sector\n",
       "Agro based incl Cold Storages                                                   2100.4685\n",
       "Automobile                                                                      1575.2121\n",
       "Beverages                                                                       2809.7994\n",
       "Cement, Cement & Concrete Products, Fly Ash Bricks                              2238.6345\n",
       "Electrical and Electronic Products                                               941.6272\n",
       "Engineering                                                                     5024.6131\n",
       "Fertlizers Organic and Inorganic,Pesticides,Insecticides, and Other Related     5418.3977\n",
       "Food Processing                                                                 4115.9122\n",
       "Granite and Stone Crushing                                                      1922.3752\n",
       "Industrial Parks and IT Buildings                                                280.4090\n",
       "Others                                                                          3229.4807\n",
       "Paper and Printing                                                              2946.2394\n",
       "Pharmaceuticals and Chemicals                                                  15858.0561\n",
       "Plastic and Rubber                                                              9649.7846\n",
       "R&D                                                                             3520.9069\n",
       "Real Estate,Industrial Parks and IT Buildings                                  29778.1741\n",
       "Solar and Other Renewable Energy                                                5639.7032\n",
       "Textiles                                                                        1844.2686\n",
       "Thermal Power Plant                                                               87.0000\n",
       "Wood and Leather                                                                 152.4038\n",
       "Name: investment in cr, dtype: float64"
      ]
     },
     "execution_count": 38,
     "metadata": {},
     "output_type": "execute_result"
    }
   ],
   "source": [
    "top_sectors"
   ]
  },
  {
   "cell_type": "code",
   "execution_count": 39,
   "metadata": {},
   "outputs": [
    {
     "name": "stdout",
     "output_type": "stream",
     "text": [
      "Top Sectors by Investment:\n",
      "sector\n",
      "Real Estate,Industrial Parks and IT Buildings                                  29778.1741\n",
      "Pharmaceuticals and Chemicals                                                  15858.0561\n",
      "Plastic and Rubber                                                              9649.7846\n",
      "Solar and Other Renewable Energy                                                5639.7032\n",
      "Fertlizers Organic and Inorganic,Pesticides,Insecticides, and Other Related     5418.3977\n",
      "Name: investment in cr, dtype: float64\n"
     ]
    }
   ],
   "source": [
    "# Sort sectors based on total investment in descending order\n",
    "top_sectors = top_sectors.sort_values(ascending=False)\n",
    "\n",
    "# Display the top sectors by investment\n",
    "print(\"Top Sectors by Investment:\")\n",
    "print(top_sectors.head())"
   ]
  },
  {
   "cell_type": "code",
   "execution_count": 40,
   "metadata": {},
   "outputs": [
    {
     "data": {
      "image/png": "[encoded data removed]",
      "text/plain": [
       "<Figure size 1000x1000 with 1 Axes>"
      ]
     },
     "metadata": {},
     "output_type": "display_data"
    }
   ],
   "source": [
    "# Create a bar chart\n",
    "plt.figure(figsize=(10, 10))\n",
    "top_sectors.plot(kind='bar', color='blue')\n",
    "plt.title('Top Sectors by Investment')\n",
    "plt.xlabel('Sector')\n",
    "plt.ylabel('Total Investment (in crore)')\n",
    "plt.xticks(rotation=90)\n",
    "plt.tight_layout()\n",
    "\n",
    "# Display the bar chart\n",
    "plt.show()"
   ]
  },
  {
   "cell_type": "code",
   "execution_count": 41,
   "metadata": {},
   "outputs": [],
   "source": [
    "# Group data by sector and calculate total investment and number of employees\n",
    "sector_distribution = merged_lpass.groupby('sector')[['investment in cr', 'number_of_employees']].sum()"
   ]
  },
  {
   "cell_type": "code",
   "execution_count": 42,
   "metadata": {},
   "outputs": [
    {
     "data": {
      "text/html": [
       "<div>\n",
       "<style scoped>\n",
       "    .dataframe tbody tr th:only-of-type {\n",
       "        vertical-align: middle;\n",
       "    }\n",
       "\n",
       "    .dataframe tbody tr th {\n",
       "        vertical-align: top;\n",
       "    }\n",
       "\n",
       "    .dataframe thead th {\n",
       "        text-align: right;\n",
       "    }\n",
       "</style>\n",
       "<table border=\"1\" class=\"dataframe\">\n",
       "  <thead>\n",
       "    <tr style=\"text-align: right;\">\n",
       "      <th></th>\n",
       "      <th>investment in cr</th>\n",
       "      <th>number_of_employees</th>\n",
       "    </tr>\n",
       "    <tr>\n",
       "      <th>sector</th>\n",
       "      <th></th>\n",
       "      <th></th>\n",
       "    </tr>\n",
       "  </thead>\n",
       "  <tbody>\n",
       "    <tr>\n",
       "      <th>Real Estate,Industrial Parks and IT Buildings</th>\n",
       "      <td>29778.1741</td>\n",
       "      <td>352558</td>\n",
       "    </tr>\n",
       "    <tr>\n",
       "      <th>Pharmaceuticals and Chemicals</th>\n",
       "      <td>15858.0561</td>\n",
       "      <td>73841</td>\n",
       "    </tr>\n",
       "    <tr>\n",
       "      <th>Plastic and Rubber</th>\n",
       "      <td>9649.7846</td>\n",
       "      <td>23301</td>\n",
       "    </tr>\n",
       "    <tr>\n",
       "      <th>Solar and Other Renewable Energy</th>\n",
       "      <td>5639.7032</td>\n",
       "      <td>3926</td>\n",
       "    </tr>\n",
       "    <tr>\n",
       "      <th>Fertlizers Organic and Inorganic,Pesticides,Insecticides, and Other Related</th>\n",
       "      <td>5418.3977</td>\n",
       "      <td>2325</td>\n",
       "    </tr>\n",
       "    <tr>\n",
       "      <th>Engineering</th>\n",
       "      <td>5024.6131</td>\n",
       "      <td>43093</td>\n",
       "    </tr>\n",
       "    <tr>\n",
       "      <th>Food Processing</th>\n",
       "      <td>4115.9122</td>\n",
       "      <td>40548</td>\n",
       "    </tr>\n",
       "    <tr>\n",
       "      <th>R&amp;D</th>\n",
       "      <td>3520.9069</td>\n",
       "      <td>20146</td>\n",
       "    </tr>\n",
       "    <tr>\n",
       "      <th>Others</th>\n",
       "      <td>3229.4807</td>\n",
       "      <td>17646</td>\n",
       "    </tr>\n",
       "    <tr>\n",
       "      <th>Paper and Printing</th>\n",
       "      <td>2946.2394</td>\n",
       "      <td>8675</td>\n",
       "    </tr>\n",
       "    <tr>\n",
       "      <th>Beverages</th>\n",
       "      <td>2809.7994</td>\n",
       "      <td>7468</td>\n",
       "    </tr>\n",
       "    <tr>\n",
       "      <th>Cement, Cement &amp; Concrete Products, Fly Ash Bricks</th>\n",
       "      <td>2238.6345</td>\n",
       "      <td>13438</td>\n",
       "    </tr>\n",
       "    <tr>\n",
       "      <th>Agro based incl Cold Storages</th>\n",
       "      <td>2100.4685</td>\n",
       "      <td>12730</td>\n",
       "    </tr>\n",
       "    <tr>\n",
       "      <th>Granite and Stone Crushing</th>\n",
       "      <td>1922.3752</td>\n",
       "      <td>16748</td>\n",
       "    </tr>\n",
       "    <tr>\n",
       "      <th>Textiles</th>\n",
       "      <td>1844.2686</td>\n",
       "      <td>10182</td>\n",
       "    </tr>\n",
       "    <tr>\n",
       "      <th>Automobile</th>\n",
       "      <td>1575.2121</td>\n",
       "      <td>15574</td>\n",
       "    </tr>\n",
       "    <tr>\n",
       "      <th>Electrical and Electronic Products</th>\n",
       "      <td>941.6272</td>\n",
       "      <td>9245</td>\n",
       "    </tr>\n",
       "    <tr>\n",
       "      <th>Industrial Parks and IT Buildings</th>\n",
       "      <td>280.4090</td>\n",
       "      <td>34</td>\n",
       "    </tr>\n",
       "    <tr>\n",
       "      <th>Wood and Leather</th>\n",
       "      <td>152.4038</td>\n",
       "      <td>3594</td>\n",
       "    </tr>\n",
       "    <tr>\n",
       "      <th>Thermal Power Plant</th>\n",
       "      <td>87.0000</td>\n",
       "      <td>9</td>\n",
       "    </tr>\n",
       "  </tbody>\n",
       "</table>\n",
       "</div>"
      ],
      "text/plain": [
       "                                                    investment in cr  \\\n",
       "sector                                                                 \n",
       "Real Estate,Industrial Parks and IT Buildings             29778.1741   \n",
       "Pharmaceuticals and Chemicals                             15858.0561   \n",
       "Plastic and Rubber                                         9649.7846   \n",
       "Solar and Other Renewable Energy                           5639.7032   \n",
       "Fertlizers Organic and Inorganic,Pesticides,Ins...         5418.3977   \n",
       "Engineering                                                5024.6131   \n",
       "Food Processing                                            4115.9122   \n",
       "R&D                                                        3520.9069   \n",
       "Others                                                     3229.4807   \n",
       "Paper and Printing                                         2946.2394   \n",
       "Beverages                                                  2809.7994   \n",
       "Cement, Cement & Concrete Products, Fly Ash Bricks         2238.6345   \n",
       "Agro based incl Cold Storages                              2100.4685   \n",
       "Granite and Stone Crushing                                 1922.3752   \n",
       "Textiles                                                   1844.2686   \n",
       "Automobile                                                 1575.2121   \n",
       "Electrical and Electronic Products                          941.6272   \n",
       "Industrial Parks and IT Buildings                           280.4090   \n",
       "Wood and Leather                                            152.4038   \n",
       "Thermal Power Plant                                          87.0000   \n",
       "\n",
       "                                                    number_of_employees  \n",
       "sector                                                                   \n",
       "Real Estate,Industrial Parks and IT Buildings                    352558  \n",
       "Pharmaceuticals and Chemicals                                     73841  \n",
       "Plastic and Rubber                                                23301  \n",
       "Solar and Other Renewable Energy                                   3926  \n",
       "Fertlizers Organic and Inorganic,Pesticides,Ins...                 2325  \n",
       "Engineering                                                       43093  \n",
       "Food Processing                                                   40548  \n",
       "R&D                                                               20146  \n",
       "Others                                                            17646  \n",
       "Paper and Printing                                                 8675  \n",
       "Beverages                                                          7468  \n",
       "Cement, Cement & Concrete Products, Fly Ash Bricks                13438  \n",
       "Agro based incl Cold Storages                                     12730  \n",
       "Granite and Stone Crushing                                        16748  \n",
       "Textiles                                                          10182  \n",
       "Automobile                                                        15574  \n",
       "Electrical and Electronic Products                                 9245  \n",
       "Industrial Parks and IT Buildings                                    34  \n",
       "Wood and Leather                                                   3594  \n",
       "Thermal Power Plant                                                   9  "
      ]
     },
     "execution_count": 42,
     "metadata": {},
     "output_type": "execute_result"
    }
   ],
   "source": [
    "sector_distribution.sort_values(by = \"investment in cr\",ascending=False)"
   ]
  },
  {
   "cell_type": "code",
   "execution_count": 43,
   "metadata": {},
   "outputs": [
    {
     "data": {
      "image/png": "[encoded data removed]",
      "text/plain": [
       "<Figure size 1500x1500 with 2 Axes>"
      ]
     },
     "metadata": {},
     "output_type": "display_data"
    }
   ],
   "source": [
    "# Create subplots for two bar charts\n",
    "fig, axes = plt.subplots(nrows=2, ncols=1, figsize=(15, 15))\n",
    "\n",
    "# Plot the distribution of investments\n",
    "sector_distribution['investment in cr'].plot(kind='bar', ax=axes[0], color='blue')\n",
    "axes[0].set_title('Distribution of Investments across Sectors')\n",
    "axes[0].set_ylabel('Total Investment (in crore)')\n",
    "axes[0].set_xlabel('Sector')\n",
    "axes[0].set_xticklabels(sector_distribution.index, rotation=45, ha='right')\n",
    "\n",
    "# Plot the distribution of number of employees\n",
    "sector_distribution['number_of_employees'].plot(kind='bar', ax=axes[1], color='green')\n",
    "axes[1].set_title('Distribution of Number of Employees across Sectors')\n",
    "axes[1].set_ylabel('Total Number of Employees')\n",
    "axes[1].set_xlabel('Sector')\n",
    "axes[1].set_xticklabels(sector_distribution.index, rotation=45, ha='right')\n",
    "\n",
    "# Adjust layout and display plots\n",
    "plt.tight_layout()\n",
    "plt.show()"
   ]
  },
  {
   "cell_type": "code",
   "execution_count": 44,
   "metadata": {},
   "outputs": [],
   "source": [
    "# Group data by month or quarter and calculate total investment\n",
    "investment_trends = merged_lpass.groupby('month')['investment in cr'].sum()"
   ]
  },
  {
   "cell_type": "code",
   "execution_count": 45,
   "metadata": {},
   "outputs": [
    {
     "data": {
      "image/png": "[encoded data removed]",
      "text/plain": [
       "<Figure size 1000x600 with 1 Axes>"
      ]
     },
     "metadata": {},
     "output_type": "display_data"
    }
   ],
   "source": [
    "# Create a line chart for investment trends\n",
    "plt.figure(figsize=(10, 6))\n",
    "investment_trends.plot(kind='line', marker='o', color='blue')\n",
    "plt.title('Investment Trends over Time')\n",
    "plt.xlabel('Month')\n",
    "plt.ylabel('Total Investment (in crore)')\n",
    "plt.xticks(rotation=45)\n",
    "plt.tight_layout()\n",
    "\n",
    "# Display the line chart\n",
    "plt.show()"
   ]
  },
  {
   "cell_type": "code",
   "execution_count": 46,
   "metadata": {},
   "outputs": [],
   "source": [
    "# Group data by month or quarter and calculate total number of employees\n",
    "employment_trends = merged_lpass.groupby('month')['number_of_employees'].sum()"
   ]
  },
  {
   "cell_type": "code",
   "execution_count": 47,
   "metadata": {},
   "outputs": [
    {
     "data": {
      "image/png": "[encoded data removed]",
      "text/plain": [
       "<Figure size 1000x600 with 1 Axes>"
      ]
     },
     "metadata": {},
     "output_type": "display_data"
    }
   ],
   "source": [
    "# Create a line chart for employment trends\n",
    "plt.figure(figsize=(10, 6))\n",
    "employment_trends.plot(kind='line', marker='o', color='green')\n",
    "plt.title('Employment Trends over Time')\n",
    "plt.xlabel('Month')\n",
    "plt.ylabel('Total Number of Employees')\n",
    "plt.xticks(rotation=45)\n",
    "plt.tight_layout()\n",
    "\n",
    "# Display the line chart\n",
    "plt.show()"
   ]
  },
  {
   "cell_type": "code",
   "execution_count": 48,
   "metadata": {},
   "outputs": [
    {
     "name": "stdout",
     "output_type": "stream",
     "text": [
      "                             sector  investment_growth  employees_growth\n",
      "348   Agro based incl Cold Storages           3.030303         50.000000\n",
      "786   Agro based incl Cold Storages         898.941176         50.000000\n",
      "966   Agro based incl Cold Storages         -13.143328        488.888889\n",
      "1261  Agro based incl Cold Storages         -61.355932        -67.924528\n",
      "1531  Agro based incl Cold Storages         -91.228070        -70.588235\n",
      "...                             ...                ...               ...\n",
      "4700               Wood and Leather        6567.142857       4000.000000\n",
      "316                Wood and Leather         -95.714592        -98.780488\n",
      "573                Wood and Leather           0.000000        500.000000\n",
      "1788               Wood and Leather         -55.000000        -66.666667\n",
      "1965               Wood and Leather         655.111111        450.000000\n",
      "\n",
      "[5730 rows x 3 columns]\n"
     ]
    }
   ],
   "source": [
    "df_sorted = merged_lpass.sort_values(by=['sector', 'month'])\n",
    "\n",
    "# Calculate the percentage change in investment and number of employees\n",
    "df_sorted['investment_growth'] = df_sorted.groupby('sector')['investment in cr'].pct_change() * 100\n",
    "df_sorted['employees_growth'] = df_sorted.groupby('sector')['number_of_employees'].pct_change() * 100\n",
    "\n",
    "# Drop rows with NaN values (first month for each sector)\n",
    "df_growth = df_sorted.dropna()\n",
    "\n",
    "# Display the sectors with their investment and employees growth rates\n",
    "print(df_growth[['sector', 'investment_growth', 'employees_growth']])"
   ]
  },
  {
   "cell_type": "code",
   "execution_count": 49,
   "metadata": {},
   "outputs": [],
   "source": [
    "# Calculate dominant sector based on highest investment\n",
    "dominant_investment = merged_lpass.loc[merged_lpass.groupby('district')['investment in cr'].idxmax()]\n"
   ]
  },
  {
   "cell_type": "code",
   "execution_count": 50,
   "metadata": {},
   "outputs": [
    {
     "data": {
      "text/html": [
       "<div>\n",
       "<style scoped>\n",
       "    .dataframe tbody tr th:only-of-type {\n",
       "        vertical-align: middle;\n",
       "    }\n",
       "\n",
       "    .dataframe tbody tr th {\n",
       "        vertical-align: top;\n",
       "    }\n",
       "\n",
       "    .dataframe thead th {\n",
       "        text-align: right;\n",
       "    }\n",
       "</style>\n",
       "<table border=\"1\" class=\"dataframe\">\n",
       "  <thead>\n",
       "    <tr style=\"text-align: right;\">\n",
       "      <th></th>\n",
       "      <th>district</th>\n",
       "      <th>sector</th>\n",
       "    </tr>\n",
       "  </thead>\n",
       "  <tbody>\n",
       "    <tr>\n",
       "      <th>1</th>\n",
       "      <td>Adilabad</td>\n",
       "      <td>Cement, Cement &amp; Concrete Products, Fly Ash Br...</td>\n",
       "    </tr>\n",
       "    <tr>\n",
       "      <th>121</th>\n",
       "      <td>Bhadradri Kothagudem</td>\n",
       "      <td>Paper and Printing</td>\n",
       "    </tr>\n",
       "    <tr>\n",
       "      <th>279</th>\n",
       "      <td>Hanumakonda</td>\n",
       "      <td>Solar and Other Renewable Energy</td>\n",
       "    </tr>\n",
       "    <tr>\n",
       "      <th>342</th>\n",
       "      <td>Hyderabad</td>\n",
       "      <td>Engineering</td>\n",
       "    </tr>\n",
       "    <tr>\n",
       "      <th>350</th>\n",
       "      <td>Jagtial</td>\n",
       "      <td>Food Processing</td>\n",
       "    </tr>\n",
       "    <tr>\n",
       "      <th>695</th>\n",
       "      <td>Jangoan</td>\n",
       "      <td>Food Processing</td>\n",
       "    </tr>\n",
       "    <tr>\n",
       "      <th>749</th>\n",
       "      <td>Jayashankar Bhupalpally</td>\n",
       "      <td>Food Processing</td>\n",
       "    </tr>\n",
       "    <tr>\n",
       "      <th>827</th>\n",
       "      <td>Jogulamba Gadwal</td>\n",
       "      <td>Solar and Other Renewable Energy</td>\n",
       "    </tr>\n",
       "    <tr>\n",
       "      <th>886</th>\n",
       "      <td>Kamareddy</td>\n",
       "      <td>Solar and Other Renewable Energy</td>\n",
       "    </tr>\n",
       "    <tr>\n",
       "      <th>1117</th>\n",
       "      <td>Karimnagar</td>\n",
       "      <td>Granite and Stone Crushing</td>\n",
       "    </tr>\n",
       "    <tr>\n",
       "      <th>1280</th>\n",
       "      <td>Khammam</td>\n",
       "      <td>Others</td>\n",
       "    </tr>\n",
       "    <tr>\n",
       "      <th>1548</th>\n",
       "      <td>Kumurambheem Asifabad</td>\n",
       "      <td>Paper and Printing</td>\n",
       "    </tr>\n",
       "    <tr>\n",
       "      <th>1780</th>\n",
       "      <td>Mahabubabad</td>\n",
       "      <td>Food Processing</td>\n",
       "    </tr>\n",
       "    <tr>\n",
       "      <th>1805</th>\n",
       "      <td>Mahabubnagar</td>\n",
       "      <td>Pharmaceuticals and Chemicals</td>\n",
       "    </tr>\n",
       "    <tr>\n",
       "      <th>2092</th>\n",
       "      <td>Mancherial</td>\n",
       "      <td>Solar and Other Renewable Energy</td>\n",
       "    </tr>\n",
       "    <tr>\n",
       "      <th>2112</th>\n",
       "      <td>Medak</td>\n",
       "      <td>Solar and Other Renewable Energy</td>\n",
       "    </tr>\n",
       "    <tr>\n",
       "      <th>2525</th>\n",
       "      <td>Medchal_Malkajgiri</td>\n",
       "      <td>Pharmaceuticals and Chemicals</td>\n",
       "    </tr>\n",
       "    <tr>\n",
       "      <th>2850</th>\n",
       "      <td>Mulugu</td>\n",
       "      <td>Food Processing</td>\n",
       "    </tr>\n",
       "    <tr>\n",
       "      <th>2933</th>\n",
       "      <td>Nagarkurnool</td>\n",
       "      <td>Solar and Other Renewable Energy</td>\n",
       "    </tr>\n",
       "    <tr>\n",
       "      <th>3060</th>\n",
       "      <td>Nalgonda</td>\n",
       "      <td>Pharmaceuticals and Chemicals</td>\n",
       "    </tr>\n",
       "    <tr>\n",
       "      <th>3162</th>\n",
       "      <td>Narayanpet</td>\n",
       "      <td>Beverages</td>\n",
       "    </tr>\n",
       "    <tr>\n",
       "      <th>3237</th>\n",
       "      <td>Nirmal</td>\n",
       "      <td>Agro based incl Cold Storages</td>\n",
       "    </tr>\n",
       "    <tr>\n",
       "      <th>3447</th>\n",
       "      <td>Nizamabad</td>\n",
       "      <td>Agro based incl Cold Storages</td>\n",
       "    </tr>\n",
       "    <tr>\n",
       "      <th>3531</th>\n",
       "      <td>Peddapalli</td>\n",
       "      <td>Fertlizers Organic and Inorganic,Pesticides,In...</td>\n",
       "    </tr>\n",
       "    <tr>\n",
       "      <th>3831</th>\n",
       "      <td>Rajanna Sircilla</td>\n",
       "      <td>Food Processing</td>\n",
       "    </tr>\n",
       "    <tr>\n",
       "      <th>3942</th>\n",
       "      <td>Rangareddy</td>\n",
       "      <td>Real Estate,Industrial Parks and IT Buildings</td>\n",
       "    </tr>\n",
       "    <tr>\n",
       "      <th>4690</th>\n",
       "      <td>Sangareddy</td>\n",
       "      <td>Plastic and Rubber</td>\n",
       "    </tr>\n",
       "    <tr>\n",
       "      <th>4854</th>\n",
       "      <td>Siddipet</td>\n",
       "      <td>Agro based incl Cold Storages</td>\n",
       "    </tr>\n",
       "    <tr>\n",
       "      <th>4999</th>\n",
       "      <td>Suryapet</td>\n",
       "      <td>Cement, Cement &amp; Concrete Products, Fly Ash Br...</td>\n",
       "    </tr>\n",
       "    <tr>\n",
       "      <th>5168</th>\n",
       "      <td>Vikarabad</td>\n",
       "      <td>Beverages</td>\n",
       "    </tr>\n",
       "    <tr>\n",
       "      <th>5208</th>\n",
       "      <td>Wanaparthy</td>\n",
       "      <td>Beverages</td>\n",
       "    </tr>\n",
       "    <tr>\n",
       "      <th>5337</th>\n",
       "      <td>Warangal</td>\n",
       "      <td>Solar and Other Renewable Energy</td>\n",
       "    </tr>\n",
       "    <tr>\n",
       "      <th>5519</th>\n",
       "      <td>Yadadri Bhuvanagiri</td>\n",
       "      <td>Solar and Other Renewable Energy</td>\n",
       "    </tr>\n",
       "  </tbody>\n",
       "</table>\n",
       "</div>"
      ],
      "text/plain": [
       "                     district  \\\n",
       "1                    Adilabad   \n",
       "121      Bhadradri Kothagudem   \n",
       "279               Hanumakonda   \n",
       "342                 Hyderabad   \n",
       "350                   Jagtial   \n",
       "695                   Jangoan   \n",
       "749   Jayashankar Bhupalpally   \n",
       "827          Jogulamba Gadwal   \n",
       "886                 Kamareddy   \n",
       "1117               Karimnagar   \n",
       "1280                  Khammam   \n",
       "1548    Kumurambheem Asifabad   \n",
       "1780              Mahabubabad   \n",
       "1805             Mahabubnagar   \n",
       "2092               Mancherial   \n",
       "2112                    Medak   \n",
       "2525       Medchal_Malkajgiri   \n",
       "2850                   Mulugu   \n",
       "2933             Nagarkurnool   \n",
       "3060                 Nalgonda   \n",
       "3162               Narayanpet   \n",
       "3237                   Nirmal   \n",
       "3447                Nizamabad   \n",
       "3531               Peddapalli   \n",
       "3831         Rajanna Sircilla   \n",
       "3942               Rangareddy   \n",
       "4690               Sangareddy   \n",
       "4854                 Siddipet   \n",
       "4999                 Suryapet   \n",
       "5168                Vikarabad   \n",
       "5208               Wanaparthy   \n",
       "5337                 Warangal   \n",
       "5519      Yadadri Bhuvanagiri   \n",
       "\n",
       "                                                 sector  \n",
       "1     Cement, Cement & Concrete Products, Fly Ash Br...  \n",
       "121                                  Paper and Printing  \n",
       "279                    Solar and Other Renewable Energy  \n",
       "342                                         Engineering  \n",
       "350                                     Food Processing  \n",
       "695                                     Food Processing  \n",
       "749                                     Food Processing  \n",
       "827                    Solar and Other Renewable Energy  \n",
       "886                    Solar and Other Renewable Energy  \n",
       "1117                         Granite and Stone Crushing  \n",
       "1280                                             Others  \n",
       "1548                                 Paper and Printing  \n",
       "1780                                    Food Processing  \n",
       "1805                      Pharmaceuticals and Chemicals  \n",
       "2092                   Solar and Other Renewable Energy  \n",
       "2112                   Solar and Other Renewable Energy  \n",
       "2525                      Pharmaceuticals and Chemicals  \n",
       "2850                                    Food Processing  \n",
       "2933                   Solar and Other Renewable Energy  \n",
       "3060                      Pharmaceuticals and Chemicals  \n",
       "3162                                          Beverages  \n",
       "3237                      Agro based incl Cold Storages  \n",
       "3447                      Agro based incl Cold Storages  \n",
       "3531  Fertlizers Organic and Inorganic,Pesticides,In...  \n",
       "3831                                    Food Processing  \n",
       "3942      Real Estate,Industrial Parks and IT Buildings  \n",
       "4690                                 Plastic and Rubber  \n",
       "4854                      Agro based incl Cold Storages  \n",
       "4999  Cement, Cement & Concrete Products, Fly Ash Br...  \n",
       "5168                                          Beverages  \n",
       "5208                                          Beverages  \n",
       "5337                   Solar and Other Renewable Energy  \n",
       "5519                   Solar and Other Renewable Energy  "
      ]
     },
     "execution_count": 50,
     "metadata": {},
     "output_type": "execute_result"
    }
   ],
   "source": [
    "dominant_investment[['district', 'sector']]"
   ]
  },
  {
   "cell_type": "code",
   "execution_count": null,
   "metadata": {},
   "outputs": [],
   "source": [
    "# District-wise analysis\n",
    "top_investment_districts = merged_lpass.nlargest(3, 'investment in cr')\n",
    "bottom_investment_districts = merged_lpass.nsmallest(3, 'investment in cr')"
   ]
  },
  {
   "cell_type": "code",
   "execution_count": null,
   "metadata": {},
   "outputs": [
    {
     "data": {
      "text/html": [
       "<div>\n",
       "<style scoped>\n",
       "    .dataframe tbody tr th:only-of-type {\n",
       "        vertical-align: middle;\n",
       "    }\n",
       "\n",
       "    .dataframe tbody tr th {\n",
       "        vertical-align: top;\n",
       "    }\n",
       "\n",
       "    .dataframe thead th {\n",
       "        text-align: right;\n",
       "    }\n",
       "</style>\n",
       "<table border=\"1\" class=\"dataframe\">\n",
       "  <thead>\n",
       "    <tr style=\"text-align: right;\">\n",
       "      <th></th>\n",
       "      <th>dist_code</th>\n",
       "      <th>district</th>\n",
       "      <th>month</th>\n",
       "      <th>sector</th>\n",
       "      <th>investment in cr</th>\n",
       "      <th>number_of_employees</th>\n",
       "      <th>investment_growth</th>\n",
       "      <th>employee_growth</th>\n",
       "    </tr>\n",
       "  </thead>\n",
       "  <tbody>\n",
       "    <tr>\n",
       "      <th>3942</th>\n",
       "      <td>15_1</td>\n",
       "      <td>Rangareddy</td>\n",
       "      <td>2020-01-02</td>\n",
       "      <td>Real Estate,Industrial Parks and IT Buildings</td>\n",
       "      <td>17793.3508</td>\n",
       "      <td>25419</td>\n",
       "      <td>4416.078883</td>\n",
       "      <td>-55.405263</td>\n",
       "    </tr>\n",
       "    <tr>\n",
       "      <th>3531</th>\n",
       "      <td>20_4</td>\n",
       "      <td>Peddapalli</td>\n",
       "      <td>2019-01-12</td>\n",
       "      <td>Fertlizers Organic and Inorganic,Pesticides,In...</td>\n",
       "      <td>5254.2800</td>\n",
       "      <td>450</td>\n",
       "      <td>456793.913043</td>\n",
       "      <td>800.000000</td>\n",
       "    </tr>\n",
       "    <tr>\n",
       "      <th>4151</th>\n",
       "      <td>15_1</td>\n",
       "      <td>Rangareddy</td>\n",
       "      <td>2022-01-03</td>\n",
       "      <td>Real Estate,Industrial Parks and IT Buildings</td>\n",
       "      <td>1862.7300</td>\n",
       "      <td>144</td>\n",
       "      <td>1129.070443</td>\n",
       "      <td>380.000000</td>\n",
       "    </tr>\n",
       "  </tbody>\n",
       "</table>\n",
       "</div>"
      ],
      "text/plain": [
       "     dist_code    district      month  \\\n",
       "3942      15_1  Rangareddy 2020-01-02   \n",
       "3531      20_4  Peddapalli 2019-01-12   \n",
       "4151      15_1  Rangareddy 2022-01-03   \n",
       "\n",
       "                                                 sector  investment in cr  \\\n",
       "3942      Real Estate,Industrial Parks and IT Buildings        17793.3508   \n",
       "3531  Fertlizers Organic and Inorganic,Pesticides,In...         5254.2800   \n",
       "4151      Real Estate,Industrial Parks and IT Buildings         1862.7300   \n",
       "\n",
       "      number_of_employees  investment_growth  employee_growth  \n",
       "3942                25419        4416.078883       -55.405263  \n",
       "3531                  450      456793.913043       800.000000  \n",
       "4151                  144        1129.070443       380.000000  "
      ]
     },
     "execution_count": 70,
     "metadata": {},
     "output_type": "execute_result"
    }
   ],
   "source": [
    "top_investment_districts"
   ]
  },
  {
   "cell_type": "code",
   "execution_count": null,
   "metadata": {},
   "outputs": [
    {
     "data": {
      "text/html": [
       "<div>\n",
       "<style scoped>\n",
       "    .dataframe tbody tr th:only-of-type {\n",
       "        vertical-align: middle;\n",
       "    }\n",
       "\n",
       "    .dataframe tbody tr th {\n",
       "        vertical-align: top;\n",
       "    }\n",
       "\n",
       "    .dataframe thead th {\n",
       "        text-align: right;\n",
       "    }\n",
       "</style>\n",
       "<table border=\"1\" class=\"dataframe\">\n",
       "  <thead>\n",
       "    <tr style=\"text-align: right;\">\n",
       "      <th></th>\n",
       "      <th>dist_code</th>\n",
       "      <th>district</th>\n",
       "      <th>month</th>\n",
       "      <th>sector</th>\n",
       "      <th>investment in cr</th>\n",
       "      <th>number_of_employees</th>\n",
       "      <th>investment_growth</th>\n",
       "      <th>employee_growth</th>\n",
       "    </tr>\n",
       "  </thead>\n",
       "  <tbody>\n",
       "    <tr>\n",
       "      <th>1537</th>\n",
       "      <td>19_4</td>\n",
       "      <td>Kumurambheem Asifabad</td>\n",
       "      <td>2019-01-10</td>\n",
       "      <td>Granite and Stone Crushing</td>\n",
       "      <td>0.0</td>\n",
       "      <td>8</td>\n",
       "      <td>-100.0</td>\n",
       "      <td>-60.000000</td>\n",
       "    </tr>\n",
       "    <tr>\n",
       "      <th>1794</th>\n",
       "      <td>14_1</td>\n",
       "      <td>Mahabubnagar</td>\n",
       "      <td>2019-01-05</td>\n",
       "      <td>Granite and Stone Crushing</td>\n",
       "      <td>0.0</td>\n",
       "      <td>1000</td>\n",
       "      <td>-100.0</td>\n",
       "      <td>6566.666667</td>\n",
       "    </tr>\n",
       "    <tr>\n",
       "      <th>1801</th>\n",
       "      <td>14_1</td>\n",
       "      <td>Mahabubnagar</td>\n",
       "      <td>2019-01-07</td>\n",
       "      <td>Agro based incl Cold Storages</td>\n",
       "      <td>0.0</td>\n",
       "      <td>10</td>\n",
       "      <td>-100.0</td>\n",
       "      <td>-33.333333</td>\n",
       "    </tr>\n",
       "  </tbody>\n",
       "</table>\n",
       "</div>"
      ],
      "text/plain": [
       "     dist_code               district      month  \\\n",
       "1537      19_4  Kumurambheem Asifabad 2019-01-10   \n",
       "1794      14_1           Mahabubnagar 2019-01-05   \n",
       "1801      14_1           Mahabubnagar 2019-01-07   \n",
       "\n",
       "                             sector  investment in cr  number_of_employees  \\\n",
       "1537     Granite and Stone Crushing               0.0                    8   \n",
       "1794     Granite and Stone Crushing               0.0                 1000   \n",
       "1801  Agro based incl Cold Storages               0.0                   10   \n",
       "\n",
       "      investment_growth  employee_growth  \n",
       "1537             -100.0       -60.000000  \n",
       "1794             -100.0      6566.666667  \n",
       "1801             -100.0       -33.333333  "
      ]
     },
     "execution_count": 65,
     "metadata": {},
     "output_type": "execute_result"
    }
   ],
   "source": [
    "bottom_investment_districts"
   ]
  },
  {
   "cell_type": "code",
   "execution_count": null,
   "metadata": {},
   "outputs": [],
   "source": [
    "# Filter data for FY 2022\n",
    "start_date = pd.Timestamp('2022-04-01')\n",
    "end_date = pd.Timestamp('2023-03-31')\n",
    "\n",
    "df_fy2022 = merged_lpass[(merged_lpass['month'] >= start_date) & (merged_lpass['month'] <= end_date)]\n"
   ]
  },
  {
   "cell_type": "code",
   "execution_count": null,
   "metadata": {},
   "outputs": [
    {
     "data": {
      "text/plain": [
       "sector\n",
       "Agro based incl Cold Storages                                                   262.6350\n",
       "Automobile                                                                     1261.5390\n",
       "Beverages                                                                        87.6680\n",
       "Cement, Cement & Concrete Products, Fly Ash Bricks                               97.8931\n",
       "Electrical and Electronic Products                                              237.2891\n",
       "Engineering                                                                     731.7274\n",
       "Fertlizers Organic and Inorganic,Pesticides,Insecticides, and Other Related       8.9077\n",
       "Food Processing                                                                 494.0120\n",
       "Granite and Stone Crushing                                                       21.2230\n",
       "Industrial Parks and IT Buildings                                               280.4090\n",
       "Others                                                                          430.5006\n",
       "Paper and Printing                                                               44.7987\n",
       "Pharmaceuticals and Chemicals                                                   432.4375\n",
       "Plastic and Rubber                                                             2261.0305\n",
       "R&D                                                                             267.1793\n",
       "Solar and Other Renewable Energy                                                  2.0000\n",
       "Textiles                                                                         25.1059\n",
       "Wood and Leather                                                                 12.7452\n",
       "Name: investment in cr, dtype: float64"
      ]
     },
     "execution_count": 72,
     "metadata": {},
     "output_type": "execute_result"
    }
   ],
   "source": [
    "# Calculate total investment by sector in FY 2022\n",
    "investment_by_sector = df_fy2022.groupby('sector')['investment in cr'].sum()\n",
    "investment_by_sector"
   ]
  },
  {
   "cell_type": "code",
   "execution_count": null,
   "metadata": {},
   "outputs": [
    {
     "name": "stdout",
     "output_type": "stream",
     "text": [
      "Top 5 Sectors with Highest Investments in FY 2022:\n"
     ]
    },
    {
     "data": {
      "text/plain": [
       "sector\n",
       "Plastic and Rubber               2261.0305\n",
       "Automobile                       1261.5390\n",
       "Engineering                       731.7274\n",
       "Food Processing                   494.0120\n",
       "Pharmaceuticals and Chemicals     432.4375\n",
       "Name: investment in cr, dtype: float64"
      ]
     },
     "execution_count": 74,
     "metadata": {},
     "output_type": "execute_result"
    }
   ],
   "source": [
    "# List the top 5 sectors with the highest investments\n",
    "top_sectors = investment_by_sector.nlargest(5)\n",
    "\n",
    "print(\"Top 5 Sectors with Highest Investments in FY 2022:\")\n",
    "top_sectors"
   ]
  },
  {
   "cell_type": "code",
   "execution_count": null,
   "metadata": {},
   "outputs": [],
   "source": [
    "# Filter data for FY 2019 to 2022\n",
    "start_date = pd.Timestamp('2019-04-01')\n",
    "end_date = pd.Timestamp('2022-03-31')\n",
    "\n",
    "df_fy19_22 = merged_lpass[(merged_lpass['month'] >= start_date) & (merged_lpass['month'] <= end_date)]"
   ]
  },
  {
   "cell_type": "code",
   "execution_count": null,
   "metadata": {},
   "outputs": [
    {
     "name": "stdout",
     "output_type": "stream",
     "text": [
      "Top 3 Districts with Highest Sector Investments (FY 2019 to 2022):\n",
      "district\n",
      "Rangareddy            35358.5924\n",
      "Medchal_Malkajgiri     7887.8865\n",
      "Sangareddy             7759.4801\n",
      "Name: investment in cr, dtype: float64\n"
     ]
    }
   ],
   "source": [
    "# Calculate total sector investments by district\n",
    "total_investments_by_district = df_fy19_22.groupby('district')['investment in cr'].sum()\n",
    "\n",
    "# List the top 3 districts with the highest total sector investments\n",
    "top_districts = total_investments_by_district.nlargest(3)\n",
    "\n",
    "print(\"Top 3 Districts with Highest Sector Investments (FY 2019 to 2022):\")\n",
    "print(top_districts)"
   ]
  },
  {
   "cell_type": "code",
   "execution_count": null,
   "metadata": {},
   "outputs": [],
   "source": [
    "# Filter data for FY 2021 and FY 2022\n",
    "start_date_2021 = pd.Timestamp('2021-04-01')\n",
    "end_date_2021 = pd.Timestamp('2022-03-31')\n",
    "start_date_2022 = pd.Timestamp('2022-04-01')\n",
    "end_date_2022 = pd.Timestamp('2023-03-31')\n",
    "\n",
    "df_fy2021 = merged_lpass[(merged_lpass['month'] >= start_date_2021) & (merged_lpass['month'] <= end_date_2021)]\n",
    "df_fy2022 = merged_lpass[(merged_lpass['month'] >= start_date_2022) & (merged_lpass['month'] <= end_date_2022)]"
   ]
  },
  {
   "cell_type": "code",
   "execution_count": null,
   "metadata": {},
   "outputs": [],
   "source": [
    "# Group data by sector and district for FY 2021 and FY 2022\n",
    "grouped_2021 = df_fy2021.groupby(['sector', 'district'], as_index=False)['investment in cr'].sum()\n",
    "grouped_2022 = df_fy2022.groupby(['sector', 'district'], as_index=False)['investment in cr'].sum()"
   ]
  },
  {
   "cell_type": "code",
   "execution_count": null,
   "metadata": {},
   "outputs": [],
   "source": [
    "# Merge the two DataFrames on sector and district\n",
    "merged = pd.merge(grouped_2021, grouped_2022, on=['sector', 'district'], suffixes=('_2021', '_2022'))"
   ]
  },
  {
   "cell_type": "code",
   "execution_count": null,
   "metadata": {},
   "outputs": [],
   "source": [
    "# Calculate investment growth rate for each sector in each district\n",
    "merged['investment_growth'] = ((merged['investment in cr_2022'] - merged['investment in cr_2021']) / merged['investment in cr_2021']) * 100"
   ]
  },
  {
   "cell_type": "code",
   "execution_count": null,
   "metadata": {},
   "outputs": [],
   "source": [
    "# Exclude the \"Other\" sector\n",
    "merged = merged[merged['sector'] != 'Other']"
   ]
  },
  {
   "cell_type": "code",
   "execution_count": null,
   "metadata": {},
   "outputs": [],
   "source": [
    "# Filter sectors with substantial investment growth in multiple districts\n",
    "substantial_investment_sectors = merged[merged['investment_growth'] > 0].groupby('sector')['district'].nunique()"
   ]
  },
  {
   "cell_type": "code",
   "execution_count": null,
   "metadata": {},
   "outputs": [
    {
     "name": "stdout",
     "output_type": "stream",
     "text": [
      "Sectors with Substantial Investment Growth in Multiple Districts:\n",
      "sector\n",
      "Others                                                6\n",
      "Beverages                                             5\n",
      "Engineering                                           4\n",
      "Agro based incl Cold Storages                         3\n",
      "Pharmaceuticals and Chemicals                         3\n",
      "Plastic and Rubber                                    3\n",
      "R&D                                                   3\n",
      "Automobile                                            2\n",
      "Cement, Cement & Concrete Products, Fly Ash Bricks    2\n",
      "Food Processing                                       2\n",
      "Name: district, dtype: int64\n"
     ]
    }
   ],
   "source": [
    "# Print sectors with substantial investment in multiple districts\n",
    "print(\"Sectors with Substantial Investment Growth in Multiple Districts:\")\n",
    "print(substantial_investment_sectors[substantial_investment_sectors > 1].sort_values(ascending=False))"
   ]
  },
  {
   "cell_type": "code",
   "execution_count": null,
   "metadata": {},
   "outputs": [],
   "source": [
    "# Filter data for the relevant period\n",
    "start_date = pd.Timestamp('2019-04-01')\n",
    "end_date = pd.Timestamp('2022-03-31')\n",
    "\n",
    "df_filtered = merged_lpass[(merged_lpass['month'] >= start_date) & (merged_lpass['month'] <= end_date)]\n",
    "\n",
    "# Group data by sector and month\n",
    "grouped = df_filtered.groupby(['sector', 'month'], as_index=False)['investment in cr'].sum()\n",
    "\n",
    "# Pivot the data for visualization\n",
    "pivot_table = grouped.pivot(index='month', columns='sector', values='investment in cr')\n"
   ]
  },
  {
   "cell_type": "code",
   "execution_count": 54,
   "metadata": {},
   "outputs": [],
   "source": [
    "start_date = pd.Timestamp('2019-04-01')\n",
    "end_date = pd.Timestamp('2023-03-31')\n",
    "df_filtered = merged_lpass[(merged_lpass['month'] >= start_date) & (merged_lpass['month'] <= end_date)]\n",
    "# Group data by sector and month\n",
    "grouped = df_filtered.groupby(['sector', 'month'], as_index=False)['investment in cr'].sum()"
   ]
  },
  {
   "cell_type": "code",
   "execution_count": 55,
   "metadata": {},
   "outputs": [
    {
     "data": {
      "application/vnd.plotly.v1+json": {
       "config": {
        "plotlyServerURL": "https://plot.ly"
       },
       "data": [
        {
         "hovertemplate": "sector=Agro based incl Cold Storages<br>Month=%{x}<br>Total Investment (in crores)=%{y}<extra></extra>",
         "legendgroup": "Agro based incl Cold Storages",
         "line": {
          "color": "#636efa",
          "dash": "solid"
         },
         "marker": {
          "symbol": "circle"
         },
         "mode": "lines",
         "name": "Agro based incl Cold Storages",
         "orientation": "v",
         "showlegend": true,
         "type": "scatter",
         "x": [
          "2020-01-01T00:00:00",
          "2020-01-02T00:00:00",
          "2020-01-03T00:00:00",
          "2020-01-04T00:00:00",
          "2020-01-05T00:00:00",
          "2020-01-06T00:00:00",
          "2020-01-07T00:00:00",
          "2020-01-08T00:00:00",
          "2020-01-09T00:00:00",
          "2020-01-10T00:00:00",
          "2020-01-11T00:00:00",
          "2020-01-12T00:00:00",
          "2021-01-01T00:00:00",
          "2021-01-02T00:00:00",
          "2021-01-03T00:00:00",
          "2021-01-04T00:00:00",
          "2021-01-05T00:00:00",
          "2021-01-06T00:00:00",
          "2021-01-07T00:00:00",
          "2021-01-08T00:00:00",
          "2021-01-09T00:00:00",
          "2021-01-10T00:00:00",
          "2021-01-11T00:00:00",
          "2021-01-12T00:00:00",
          "2022-01-01T00:00:00",
          "2022-01-02T00:00:00",
          "2022-01-03T00:00:00",
          "2022-01-04T00:00:00",
          "2022-01-05T00:00:00",
          "2022-01-06T00:00:00",
          "2022-01-07T00:00:00",
          "2022-01-08T00:00:00",
          "2022-01-09T00:00:00",
          "2022-01-10T00:00:00",
          "2022-01-11T00:00:00",
          "2022-01-12T00:00:00",
          "2023-01-01T00:00:00",
          "2023-01-02T00:00:00",
          "2023-01-03T00:00:00"
         ],
         "xaxis": "x",
         "y": [
          21.7675,
          16.4105,
          12.3923,
          1.1577,
          12.3158,
          16.7798,
          31.837699999999998,
          36.7148,
          16.4792,
          9.0167,
          18.6064,
          45.0434,
          22.3632,
          25.9573,
          28.9529,
          14.5068,
          21.6411,
          33.7747,
          40.0639,
          20.2364,
          26.516,
          40.851,
          21.3472,
          74.0024,
          12.8118,
          3.94,
          15.5378,
          31.0503,
          106.75479999999999,
          540.9979000000001,
          51.5164,
          7.414000000000001,
          158.8676,
          8.0741,
          10.9015,
          85.3386,
          23.9732,
          4.3737,
          234.2881
         ],
         "yaxis": "y"
        },
        {
         "hovertemplate": "sector=Automobile<br>Month=%{x}<br>Total Investment (in crores)=%{y}<extra></extra>",
         "legendgroup": "Automobile",
         "line": {
          "color": "#EF553B",
          "dash": "solid"
         },
         "marker": {
          "symbol": "circle"
         },
         "mode": "lines",
         "name": "Automobile",
         "orientation": "v",
         "showlegend": true,
         "type": "scatter",
         "x": [
          "2020-01-03T00:00:00",
          "2020-01-10T00:00:00",
          "2020-01-11T00:00:00",
          "2020-01-12T00:00:00",
          "2021-01-02T00:00:00",
          "2021-01-04T00:00:00",
          "2021-01-07T00:00:00",
          "2021-01-11T00:00:00",
          "2022-01-04T00:00:00",
          "2022-01-05T00:00:00",
          "2022-01-06T00:00:00",
          "2022-01-07T00:00:00",
          "2022-01-10T00:00:00",
          "2023-01-01T00:00:00",
          "2023-01-03T00:00:00"
         ],
         "xaxis": "x",
         "y": [
          0.01,
          1.5,
          0.21,
          1,
          0.065,
          0.25,
          4.59,
          0.16,
          2,
          50.9951,
          0.5,
          32.5,
          219.893,
          1254.269,
          7.27
         ],
         "yaxis": "y"
        },
        {
         "hovertemplate": "sector=Beverages<br>Month=%{x}<br>Total Investment (in crores)=%{y}<extra></extra>",
         "legendgroup": "Beverages",
         "line": {
          "color": "#00cc96",
          "dash": "solid"
         },
         "marker": {
          "symbol": "circle"
         },
         "mode": "lines",
         "name": "Beverages",
         "orientation": "v",
         "showlegend": true,
         "type": "scatter",
         "x": [
          "2020-01-01T00:00:00",
          "2020-01-02T00:00:00",
          "2020-01-03T00:00:00",
          "2020-01-04T00:00:00",
          "2020-01-05T00:00:00",
          "2020-01-06T00:00:00",
          "2020-01-07T00:00:00",
          "2020-01-08T00:00:00",
          "2020-01-09T00:00:00",
          "2020-01-10T00:00:00",
          "2020-01-11T00:00:00",
          "2020-01-12T00:00:00",
          "2021-01-01T00:00:00",
          "2021-01-02T00:00:00",
          "2021-01-03T00:00:00",
          "2021-01-04T00:00:00",
          "2021-01-05T00:00:00",
          "2021-01-06T00:00:00",
          "2021-01-07T00:00:00",
          "2021-01-08T00:00:00",
          "2021-01-09T00:00:00",
          "2021-01-10T00:00:00",
          "2021-01-11T00:00:00",
          "2021-01-12T00:00:00",
          "2022-01-01T00:00:00",
          "2022-01-02T00:00:00",
          "2022-01-03T00:00:00",
          "2022-01-04T00:00:00",
          "2022-01-05T00:00:00",
          "2022-01-06T00:00:00",
          "2022-01-07T00:00:00",
          "2022-01-08T00:00:00",
          "2022-01-09T00:00:00",
          "2022-01-10T00:00:00",
          "2022-01-12T00:00:00",
          "2023-01-01T00:00:00",
          "2023-01-02T00:00:00",
          "2023-01-03T00:00:00"
         ],
         "xaxis": "x",
         "y": [
          1.2041,
          0.23,
          0.8724999999999999,
          7.114,
          0.04,
          0.696,
          0.8819999999999999,
          0.7238,
          0.9450000000000001,
          0.4232,
          68.45570000000001,
          275.6365,
          3.126,
          0.732,
          10.341999999999999,
          4.041,
          10.2081,
          3.0500000000000003,
          0.7561,
          0.35300000000000004,
          0.8145,
          0.333,
          363.10699999999997,
          1.9,
          852.99,
          603.2375000000001,
          2.89,
          7.135000000000001,
          332.148,
          4.484,
          4.7715,
          1.5261,
          3.9984,
          19.9315,
          15.08,
          4.298,
          82.9,
          0.47
         ],
         "yaxis": "y"
        },
        {
         "hovertemplate": "sector=Cement, Cement & Concrete Products, Fly Ash Bricks<br>Month=%{x}<br>Total Investment (in crores)=%{y}<extra></extra>",
         "legendgroup": "Cement, Cement & Concrete Products, Fly Ash Bricks",
         "line": {
          "color": "#ab63fa",
          "dash": "solid"
         },
         "marker": {
          "symbol": "circle"
         },
         "mode": "lines",
         "name": "Cement, Cement & Concrete Products, Fly Ash Bricks",
         "orientation": "v",
         "showlegend": true,
         "type": "scatter",
         "x": [
          "2020-01-01T00:00:00",
          "2020-01-02T00:00:00",
          "2020-01-03T00:00:00",
          "2020-01-04T00:00:00",
          "2020-01-05T00:00:00",
          "2020-01-06T00:00:00",
          "2020-01-07T00:00:00",
          "2020-01-08T00:00:00",
          "2020-01-09T00:00:00",
          "2020-01-10T00:00:00",
          "2020-01-11T00:00:00",
          "2020-01-12T00:00:00",
          "2021-01-01T00:00:00",
          "2021-01-02T00:00:00",
          "2021-01-03T00:00:00",
          "2021-01-04T00:00:00",
          "2021-01-05T00:00:00",
          "2021-01-06T00:00:00",
          "2021-01-07T00:00:00",
          "2021-01-08T00:00:00",
          "2021-01-09T00:00:00",
          "2021-01-10T00:00:00",
          "2021-01-11T00:00:00",
          "2021-01-12T00:00:00",
          "2022-01-01T00:00:00",
          "2022-01-02T00:00:00",
          "2022-01-03T00:00:00",
          "2022-01-04T00:00:00",
          "2022-01-05T00:00:00",
          "2022-01-06T00:00:00",
          "2022-01-07T00:00:00",
          "2022-01-08T00:00:00",
          "2022-01-09T00:00:00",
          "2022-01-10T00:00:00",
          "2022-01-11T00:00:00",
          "2022-01-12T00:00:00",
          "2023-01-01T00:00:00",
          "2023-01-02T00:00:00",
          "2023-01-03T00:00:00"
         ],
         "xaxis": "x",
         "y": [
          13.0032,
          73.0536,
          8.4541,
          0.6825000000000001,
          6.5302999999999995,
          7.4176,
          18.9629,
          5.593,
          12.6796,
          14.2849,
          12.8138,
          16.7025,
          12.3758,
          8.2586,
          32.3431,
          18.957,
          5.5285,
          10.3446,
          23.5875,
          5.4488,
          5.4254,
          5.3204,
          20.5886,
          4.366,
          5.1903,
          7.626399999999999,
          8.517199999999999,
          5.2127,
          37.9388,
          9.7179,
          6.1252,
          961.3705,
          6.4636,
          2.246,
          8.2193,
          7.5597,
          9.0316,
          13.1655,
          75.696
         ],
         "yaxis": "y"
        },
        {
         "hovertemplate": "sector=Electrical and Electronic Products<br>Month=%{x}<br>Total Investment (in crores)=%{y}<extra></extra>",
         "legendgroup": "Electrical and Electronic Products",
         "line": {
          "color": "#FFA15A",
          "dash": "solid"
         },
         "marker": {
          "symbol": "circle"
         },
         "mode": "lines",
         "name": "Electrical and Electronic Products",
         "orientation": "v",
         "showlegend": true,
         "type": "scatter",
         "x": [
          "2020-01-01T00:00:00",
          "2020-01-02T00:00:00",
          "2020-01-03T00:00:00",
          "2020-01-05T00:00:00",
          "2020-01-06T00:00:00",
          "2020-01-07T00:00:00",
          "2020-01-08T00:00:00",
          "2020-01-09T00:00:00",
          "2020-01-10T00:00:00",
          "2020-01-11T00:00:00",
          "2020-01-12T00:00:00",
          "2021-01-01T00:00:00",
          "2021-01-02T00:00:00",
          "2021-01-03T00:00:00",
          "2021-01-04T00:00:00",
          "2021-01-05T00:00:00",
          "2021-01-06T00:00:00",
          "2021-01-07T00:00:00",
          "2021-01-08T00:00:00",
          "2021-01-09T00:00:00",
          "2021-01-10T00:00:00",
          "2021-01-11T00:00:00",
          "2021-01-12T00:00:00",
          "2022-01-01T00:00:00",
          "2022-01-02T00:00:00",
          "2022-01-03T00:00:00",
          "2022-01-04T00:00:00",
          "2022-01-05T00:00:00",
          "2022-01-06T00:00:00",
          "2022-01-07T00:00:00",
          "2022-01-08T00:00:00",
          "2022-01-09T00:00:00",
          "2022-01-10T00:00:00",
          "2022-01-11T00:00:00",
          "2022-01-12T00:00:00",
          "2023-01-01T00:00:00",
          "2023-01-02T00:00:00",
          "2023-01-03T00:00:00"
         ],
         "xaxis": "x",
         "y": [
          19.4313,
          2.8991,
          8.6099,
          0,
          45.04880000000001,
          11.2592,
          4.518,
          19.8214,
          15.82,
          2.7968,
          5.6562,
          19.709799999999998,
          18.032,
          2.2331000000000003,
          16.037100000000002,
          7.7513000000000005,
          34.0133,
          24.4654,
          8.7005,
          2.8242000000000003,
          3.1449,
          5.9589,
          1.7681,
          11.4,
          22.2253,
          38.1704,
          9.915899999999999,
          17.7642,
          5.1581,
          131.39700000000002,
          9.116,
          36.480000000000004,
          1.3561,
          22.2667,
          13.7224,
          218.8307,
          8.3915,
          10.0669
         ],
         "yaxis": "y"
        },
        {
         "hovertemplate": "sector=Engineering<br>Month=%{x}<br>Total Investment (in crores)=%{y}<extra></extra>",
         "legendgroup": "Engineering",
         "line": {
          "color": "#19d3f3",
          "dash": "solid"
         },
         "marker": {
          "symbol": "circle"
         },
         "mode": "lines",
         "name": "Engineering",
         "orientation": "v",
         "showlegend": true,
         "type": "scatter",
         "x": [
          "2020-01-01T00:00:00",
          "2020-01-02T00:00:00",
          "2020-01-03T00:00:00",
          "2020-01-04T00:00:00",
          "2020-01-05T00:00:00",
          "2020-01-06T00:00:00",
          "2020-01-07T00:00:00",
          "2020-01-08T00:00:00",
          "2020-01-09T00:00:00",
          "2020-01-10T00:00:00",
          "2020-01-11T00:00:00",
          "2020-01-12T00:00:00",
          "2021-01-01T00:00:00",
          "2021-01-02T00:00:00",
          "2021-01-03T00:00:00",
          "2021-01-04T00:00:00",
          "2021-01-05T00:00:00",
          "2021-01-06T00:00:00",
          "2021-01-07T00:00:00",
          "2021-01-08T00:00:00",
          "2021-01-09T00:00:00",
          "2021-01-10T00:00:00",
          "2021-01-11T00:00:00",
          "2021-01-12T00:00:00",
          "2022-01-01T00:00:00",
          "2022-01-02T00:00:00",
          "2022-01-03T00:00:00",
          "2022-01-04T00:00:00",
          "2022-01-05T00:00:00",
          "2022-01-06T00:00:00",
          "2022-01-07T00:00:00",
          "2022-01-08T00:00:00",
          "2022-01-09T00:00:00",
          "2022-01-10T00:00:00",
          "2022-01-11T00:00:00",
          "2022-01-12T00:00:00",
          "2023-01-01T00:00:00",
          "2023-01-02T00:00:00",
          "2023-01-03T00:00:00"
         ],
         "xaxis": "x",
         "y": [
          52.4474,
          39.4521,
          64.9891,
          8.886800000000001,
          31.8316,
          32.9049,
          27.7706,
          205.4182,
          40.8964,
          26.8659,
          35.1619,
          29.3782,
          28.018900000000002,
          750.6735,
          82.5469,
          78.2169,
          52.2422,
          37.2494,
          130.8892,
          73.5356,
          91.7222,
          69.0192,
          138.1339,
          69.33930000000001,
          25.826999999999998,
          76.4553,
          124.887,
          61.1704,
          127.9418,
          128.256,
          62.693200000000004,
          52.522,
          60.758399999999995,
          296.7135,
          76.476,
          279.19460000000004,
          86.49119999999999,
          465.9414,
          179.2948
         ],
         "yaxis": "y"
        },
        {
         "hovertemplate": "sector=Fertlizers Organic and Inorganic,Pesticides,Insecticides, and Other Related<br>Month=%{x}<br>Total Investment (in crores)=%{y}<extra></extra>",
         "legendgroup": "Fertlizers Organic and Inorganic,Pesticides,Insecticides, and Other Related",
         "line": {
          "color": "#FF6692",
          "dash": "solid"
         },
         "marker": {
          "symbol": "circle"
         },
         "mode": "lines",
         "name": "Fertlizers Organic and Inorganic,Pesticides,Insecticides, and Other Related",
         "orientation": "v",
         "showlegend": true,
         "type": "scatter",
         "x": [
          "2020-01-01T00:00:00",
          "2020-01-02T00:00:00",
          "2020-01-03T00:00:00",
          "2020-01-04T00:00:00",
          "2020-01-06T00:00:00",
          "2020-01-08T00:00:00",
          "2020-01-09T00:00:00",
          "2020-01-10T00:00:00",
          "2020-01-12T00:00:00",
          "2021-01-01T00:00:00",
          "2021-01-02T00:00:00",
          "2021-01-03T00:00:00",
          "2021-01-04T00:00:00",
          "2021-01-05T00:00:00",
          "2021-01-06T00:00:00",
          "2021-01-07T00:00:00",
          "2021-01-08T00:00:00",
          "2021-01-09T00:00:00",
          "2021-01-10T00:00:00",
          "2021-01-11T00:00:00",
          "2021-01-12T00:00:00",
          "2022-01-01T00:00:00",
          "2022-01-02T00:00:00",
          "2022-01-03T00:00:00",
          "2022-01-04T00:00:00",
          "2022-01-05T00:00:00",
          "2022-01-06T00:00:00",
          "2022-01-07T00:00:00",
          "2022-01-08T00:00:00",
          "2022-01-09T00:00:00",
          "2022-01-10T00:00:00",
          "2022-01-11T00:00:00",
          "2022-01-12T00:00:00",
          "2023-01-01T00:00:00",
          "2023-01-02T00:00:00",
          "2023-01-03T00:00:00"
         ],
         "xaxis": "x",
         "y": [
          4.85,
          3.71,
          10.8782,
          2.9259,
          6.045,
          5.5600000000000005,
          50.1,
          2.56,
          0.8600000000000001,
          2.04,
          0.65,
          1.65,
          2.5,
          2,
          0.35,
          1.282,
          2.6353,
          0.8265,
          1.8595000000000002,
          1.6506000000000003,
          0.99,
          4.3505,
          1.0201,
          3.988,
          2.5700000000000003,
          0.6,
          0.24000000000000002,
          0.6950000000000001,
          0.75,
          0.994,
          0.75,
          1.7,
          17.017699999999998,
          0.52,
          6.9877,
          1.4
         ],
         "yaxis": "y"
        },
        {
         "hovertemplate": "sector=Food Processing<br>Month=%{x}<br>Total Investment (in crores)=%{y}<extra></extra>",
         "legendgroup": "Food Processing",
         "line": {
          "color": "#B6E880",
          "dash": "solid"
         },
         "marker": {
          "symbol": "circle"
         },
         "mode": "lines",
         "name": "Food Processing",
         "orientation": "v",
         "showlegend": true,
         "type": "scatter",
         "x": [
          "2020-01-01T00:00:00",
          "2020-01-02T00:00:00",
          "2020-01-03T00:00:00",
          "2020-01-04T00:00:00",
          "2020-01-05T00:00:00",
          "2020-01-06T00:00:00",
          "2020-01-07T00:00:00",
          "2020-01-08T00:00:00",
          "2020-01-09T00:00:00",
          "2020-01-10T00:00:00",
          "2020-01-11T00:00:00",
          "2020-01-12T00:00:00",
          "2021-01-01T00:00:00",
          "2021-01-02T00:00:00",
          "2021-01-03T00:00:00",
          "2021-01-04T00:00:00",
          "2021-01-05T00:00:00",
          "2021-01-06T00:00:00",
          "2021-01-07T00:00:00",
          "2021-01-08T00:00:00",
          "2021-01-09T00:00:00",
          "2021-01-10T00:00:00",
          "2021-01-11T00:00:00",
          "2021-01-12T00:00:00",
          "2022-01-01T00:00:00",
          "2022-01-02T00:00:00",
          "2022-01-03T00:00:00",
          "2022-01-04T00:00:00",
          "2022-01-05T00:00:00",
          "2022-01-06T00:00:00",
          "2022-01-07T00:00:00",
          "2022-01-08T00:00:00",
          "2022-01-09T00:00:00",
          "2022-01-10T00:00:00",
          "2022-01-11T00:00:00",
          "2022-01-12T00:00:00",
          "2023-01-01T00:00:00",
          "2023-01-02T00:00:00",
          "2023-01-03T00:00:00"
         ],
         "xaxis": "x",
         "y": [
          15.2206,
          44.8609,
          31.2137,
          20.3003,
          37.1349,
          71.0267,
          88.458,
          47.918,
          60.3129,
          76.7852,
          95.60419999999999,
          153.4641,
          71.29650000000001,
          115.0397,
          61.1025,
          47.3111,
          79.252,
          58.6274,
          34.9568,
          64.4962,
          91.3612,
          92.6632,
          113.8482,
          175.68019999999999,
          77.9899,
          53.3359,
          109.84,
          62.2852,
          71.2244,
          49.0321,
          92.7685,
          126.2268,
          200.0642,
          61.6511,
          190.3604,
          108.31880000000001,
          77.3763,
          69.4415,
          347.19419999999997
         ],
         "yaxis": "y"
        },
        {
         "hovertemplate": "sector=Granite and Stone Crushing<br>Month=%{x}<br>Total Investment (in crores)=%{y}<extra></extra>",
         "legendgroup": "Granite and Stone Crushing",
         "line": {
          "color": "#FF97FF",
          "dash": "solid"
         },
         "marker": {
          "symbol": "circle"
         },
         "mode": "lines",
         "name": "Granite and Stone Crushing",
         "orientation": "v",
         "showlegend": true,
         "type": "scatter",
         "x": [
          "2020-01-01T00:00:00",
          "2020-01-02T00:00:00",
          "2020-01-03T00:00:00",
          "2020-01-04T00:00:00",
          "2020-01-05T00:00:00",
          "2020-01-06T00:00:00",
          "2020-01-07T00:00:00",
          "2020-01-08T00:00:00",
          "2020-01-09T00:00:00",
          "2020-01-10T00:00:00",
          "2020-01-11T00:00:00",
          "2020-01-12T00:00:00",
          "2021-01-01T00:00:00",
          "2021-01-02T00:00:00",
          "2021-01-03T00:00:00",
          "2021-01-04T00:00:00",
          "2021-01-05T00:00:00",
          "2021-01-06T00:00:00",
          "2021-01-07T00:00:00",
          "2021-01-08T00:00:00",
          "2021-01-09T00:00:00",
          "2021-01-10T00:00:00",
          "2021-01-11T00:00:00",
          "2021-01-12T00:00:00",
          "2022-01-01T00:00:00",
          "2022-01-02T00:00:00",
          "2022-01-03T00:00:00",
          "2022-01-04T00:00:00",
          "2022-01-05T00:00:00",
          "2022-01-06T00:00:00",
          "2022-01-07T00:00:00",
          "2022-01-08T00:00:00",
          "2022-01-09T00:00:00",
          "2022-01-10T00:00:00",
          "2022-01-11T00:00:00",
          "2022-01-12T00:00:00",
          "2023-01-01T00:00:00",
          "2023-01-02T00:00:00",
          "2023-01-03T00:00:00"
         ],
         "xaxis": "x",
         "y": [
          16.4955,
          24.7698,
          40.6462,
          53.6762,
          20.933699999999998,
          31.5141,
          9.1345,
          12.225,
          23.0473,
          12.7238,
          17.347,
          44.6561,
          17.8676,
          31.483999999999998,
          32.563199999999995,
          19.677799999999998,
          4.399100000000001,
          8.1147,
          20.0672,
          26.4196,
          10.5874,
          15.142000000000001,
          122.03070000000001,
          12.6342,
          131.0131,
          19.5606,
          11.103399999999999,
          28.674599999999998,
          211.3253,
          263.30010000000004,
          18.1666,
          16.7938,
          9.5957,
          346.0177,
          24.250999999999998,
          7.3713999999999995,
          5.2719000000000005,
          7.3027,
          8.6484
         ],
         "yaxis": "y"
        },
        {
         "hovertemplate": "sector=Industrial Parks and IT Buildings<br>Month=%{x}<br>Total Investment (in crores)=%{y}<extra></extra>",
         "legendgroup": "Industrial Parks and IT Buildings",
         "line": {
          "color": "#FECB52",
          "dash": "solid"
         },
         "marker": {
          "symbol": "circle"
         },
         "mode": "lines",
         "name": "Industrial Parks and IT Buildings",
         "orientation": "v",
         "showlegend": true,
         "type": "scatter",
         "x": [
          "2023-01-02T00:00:00"
         ],
         "xaxis": "x",
         "y": [
          280.409
         ],
         "yaxis": "y"
        },
        {
         "hovertemplate": "sector=Others<br>Month=%{x}<br>Total Investment (in crores)=%{y}<extra></extra>",
         "legendgroup": "Others",
         "line": {
          "color": "#636efa",
          "dash": "solid"
         },
         "marker": {
          "symbol": "circle"
         },
         "mode": "lines",
         "name": "Others",
         "orientation": "v",
         "showlegend": true,
         "type": "scatter",
         "x": [
          "2020-01-01T00:00:00",
          "2020-01-02T00:00:00",
          "2020-01-03T00:00:00",
          "2020-01-04T00:00:00",
          "2020-01-05T00:00:00",
          "2020-01-06T00:00:00",
          "2020-01-07T00:00:00",
          "2020-01-08T00:00:00",
          "2020-01-09T00:00:00",
          "2020-01-10T00:00:00",
          "2020-01-11T00:00:00",
          "2020-01-12T00:00:00",
          "2021-01-01T00:00:00",
          "2021-01-02T00:00:00",
          "2021-01-03T00:00:00",
          "2021-01-04T00:00:00",
          "2021-01-05T00:00:00",
          "2021-01-06T00:00:00",
          "2021-01-07T00:00:00",
          "2021-01-08T00:00:00",
          "2021-01-09T00:00:00",
          "2021-01-10T00:00:00",
          "2021-01-11T00:00:00",
          "2021-01-12T00:00:00",
          "2022-01-01T00:00:00",
          "2022-01-02T00:00:00",
          "2022-01-03T00:00:00",
          "2022-01-04T00:00:00",
          "2022-01-05T00:00:00",
          "2022-01-06T00:00:00",
          "2022-01-07T00:00:00",
          "2022-01-08T00:00:00",
          "2022-01-09T00:00:00",
          "2022-01-10T00:00:00",
          "2022-01-11T00:00:00",
          "2022-01-12T00:00:00",
          "2023-01-01T00:00:00",
          "2023-01-02T00:00:00",
          "2023-01-03T00:00:00"
         ],
         "xaxis": "x",
         "y": [
          4.0825,
          12.873000000000001,
          77.9127,
          5.1509,
          1,
          25.7304,
          294.55129999999997,
          11.290700000000001,
          3.2405999999999997,
          3.3087,
          3.1375,
          2.6825,
          14.552,
          5.0727,
          66.1691,
          11.715,
          13.3615,
          22.680300000000003,
          10.8906,
          18.853,
          24.8051,
          12.8952,
          27.2882,
          366.2738,
          76.4868,
          33.4791,
          28.8975,
          105.3172,
          48.525,
          56.3177,
          172.1563,
          116.7883,
          46.9597,
          36.9086,
          4.7866,
          22.0961,
          190.8791,
          207.9187,
          31.7028
         ],
         "yaxis": "y"
        },
        {
         "hovertemplate": "sector=Paper and Printing<br>Month=%{x}<br>Total Investment (in crores)=%{y}<extra></extra>",
         "legendgroup": "Paper and Printing",
         "line": {
          "color": "#EF553B",
          "dash": "solid"
         },
         "marker": {
          "symbol": "circle"
         },
         "mode": "lines",
         "name": "Paper and Printing",
         "orientation": "v",
         "showlegend": true,
         "type": "scatter",
         "x": [
          "2020-01-01T00:00:00",
          "2020-01-02T00:00:00",
          "2020-01-03T00:00:00",
          "2020-01-04T00:00:00",
          "2020-01-05T00:00:00",
          "2020-01-06T00:00:00",
          "2020-01-07T00:00:00",
          "2020-01-08T00:00:00",
          "2020-01-09T00:00:00",
          "2020-01-10T00:00:00",
          "2020-01-11T00:00:00",
          "2020-01-12T00:00:00",
          "2021-01-01T00:00:00",
          "2021-01-02T00:00:00",
          "2021-01-03T00:00:00",
          "2021-01-04T00:00:00",
          "2021-01-05T00:00:00",
          "2021-01-06T00:00:00",
          "2021-01-07T00:00:00",
          "2021-01-08T00:00:00",
          "2021-01-09T00:00:00",
          "2021-01-10T00:00:00",
          "2021-01-11T00:00:00",
          "2021-01-12T00:00:00",
          "2022-01-01T00:00:00",
          "2022-01-02T00:00:00",
          "2022-01-03T00:00:00",
          "2022-01-04T00:00:00",
          "2022-01-05T00:00:00",
          "2022-01-06T00:00:00",
          "2022-01-07T00:00:00",
          "2022-01-08T00:00:00",
          "2022-01-09T00:00:00",
          "2022-01-10T00:00:00",
          "2022-01-11T00:00:00",
          "2022-01-12T00:00:00",
          "2023-01-01T00:00:00",
          "2023-01-02T00:00:00",
          "2023-01-03T00:00:00"
         ],
         "xaxis": "x",
         "y": [
          16.6475,
          100.09,
          160.63049999999998,
          0.4456,
          1.3834,
          6.0035,
          1.695,
          7.7848,
          1.7271999999999998,
          3.6,
          17.9765,
          84.2582,
          1.4557,
          11.1478,
          39.6963,
          2.36,
          1.7469999999999999,
          6.5325,
          0.962,
          8.064,
          13.477,
          7.83,
          14.235,
          26.3979,
          47.805,
          36.6407,
          39.8529,
          23.9737,
          15.9079,
          8.8995,
          1057.7084,
          63.8973,
          10.5374,
          5.34,
          3.1055,
          17.203,
          9.9622,
          32.1456,
          2.6908999999999996
         ],
         "yaxis": "y"
        },
        {
         "hovertemplate": "sector=Pharmaceuticals and Chemicals<br>Month=%{x}<br>Total Investment (in crores)=%{y}<extra></extra>",
         "legendgroup": "Pharmaceuticals and Chemicals",
         "line": {
          "color": "#00cc96",
          "dash": "solid"
         },
         "marker": {
          "symbol": "circle"
         },
         "mode": "lines",
         "name": "Pharmaceuticals and Chemicals",
         "orientation": "v",
         "showlegend": true,
         "type": "scatter",
         "x": [
          "2020-01-01T00:00:00",
          "2020-01-02T00:00:00",
          "2020-01-03T00:00:00",
          "2020-01-04T00:00:00",
          "2020-01-05T00:00:00",
          "2020-01-06T00:00:00",
          "2020-01-07T00:00:00",
          "2020-01-08T00:00:00",
          "2020-01-09T00:00:00",
          "2020-01-10T00:00:00",
          "2020-01-11T00:00:00",
          "2020-01-12T00:00:00",
          "2021-01-01T00:00:00",
          "2021-01-02T00:00:00",
          "2021-01-03T00:00:00",
          "2021-01-04T00:00:00",
          "2021-01-05T00:00:00",
          "2021-01-06T00:00:00",
          "2021-01-07T00:00:00",
          "2021-01-08T00:00:00",
          "2021-01-09T00:00:00",
          "2021-01-10T00:00:00",
          "2021-01-11T00:00:00",
          "2021-01-12T00:00:00",
          "2022-01-01T00:00:00",
          "2022-01-02T00:00:00",
          "2022-01-03T00:00:00",
          "2022-01-04T00:00:00",
          "2022-01-05T00:00:00",
          "2022-01-06T00:00:00",
          "2022-01-07T00:00:00",
          "2022-01-08T00:00:00",
          "2022-01-09T00:00:00",
          "2022-01-10T00:00:00",
          "2022-01-11T00:00:00",
          "2022-01-12T00:00:00",
          "2023-01-01T00:00:00",
          "2023-01-02T00:00:00",
          "2023-01-03T00:00:00"
         ],
         "xaxis": "x",
         "y": [
          216.6345,
          47.1338,
          80.07000000000001,
          6.5004,
          51.2522,
          14.294699999999999,
          730.3285,
          459.2442,
          196.815,
          6.1211,
          157.4723,
          1185.1580999999999,
          419.9038,
          1163.4406,
          285.6928,
          12.178799999999999,
          111.81410000000001,
          1081.8647,
          1703.716,
          149.2645,
          834.7695,
          695.7385999999999,
          583.5335,
          788.1197,
          153.057,
          503.773,
          243.1027,
          253.1628,
          192.8016,
          589.3629999999999,
          166.062,
          67.3609,
          206.28799999999998,
          195.59310000000002,
          34.3864,
          44.1789,
          147.2582,
          143.1492,
          142.0301
         ],
         "yaxis": "y"
        },
        {
         "hovertemplate": "sector=Plastic and Rubber<br>Month=%{x}<br>Total Investment (in crores)=%{y}<extra></extra>",
         "legendgroup": "Plastic and Rubber",
         "line": {
          "color": "#ab63fa",
          "dash": "solid"
         },
         "marker": {
          "symbol": "circle"
         },
         "mode": "lines",
         "name": "Plastic and Rubber",
         "orientation": "v",
         "showlegend": true,
         "type": "scatter",
         "x": [
          "2020-01-01T00:00:00",
          "2020-01-02T00:00:00",
          "2020-01-03T00:00:00",
          "2020-01-04T00:00:00",
          "2020-01-05T00:00:00",
          "2020-01-06T00:00:00",
          "2020-01-07T00:00:00",
          "2020-01-08T00:00:00",
          "2020-01-09T00:00:00",
          "2020-01-10T00:00:00",
          "2020-01-11T00:00:00",
          "2020-01-12T00:00:00",
          "2021-01-01T00:00:00",
          "2021-01-02T00:00:00",
          "2021-01-03T00:00:00",
          "2021-01-04T00:00:00",
          "2021-01-05T00:00:00",
          "2021-01-06T00:00:00",
          "2021-01-07T00:00:00",
          "2021-01-08T00:00:00",
          "2021-01-09T00:00:00",
          "2021-01-10T00:00:00",
          "2021-01-11T00:00:00",
          "2021-01-12T00:00:00",
          "2022-01-01T00:00:00",
          "2022-01-02T00:00:00",
          "2022-01-03T00:00:00",
          "2022-01-04T00:00:00",
          "2022-01-05T00:00:00",
          "2022-01-06T00:00:00",
          "2022-01-07T00:00:00",
          "2022-01-08T00:00:00",
          "2022-01-09T00:00:00",
          "2022-01-10T00:00:00",
          "2022-01-11T00:00:00",
          "2022-01-12T00:00:00",
          "2023-01-01T00:00:00",
          "2023-01-02T00:00:00",
          "2023-01-03T00:00:00"
         ],
         "xaxis": "x",
         "y": [
          154.21,
          18.0666,
          9.5907,
          31.676499999999997,
          6.193,
          23.380200000000002,
          36.4025,
          34.3255,
          10.3874,
          26.601000000000003,
          243.039,
          268.8567,
          23.1016,
          42.4317,
          213.8177,
          971.4916000000001,
          19.2822,
          442.37030000000004,
          96.4177,
          36.881299999999996,
          94.9239,
          163.30360000000002,
          34.156400000000005,
          96.25680000000001,
          26.7828,
          30.1999,
          47.558,
          45.7018,
          27.8996,
          68.3183,
          34.9973,
          1470.4287,
          261.0722,
          74.2781,
          52.7628,
          1559.1202,
          1599.1432,
          181.9992,
          479.8881
         ],
         "yaxis": "y"
        },
        {
         "hovertemplate": "sector=R&D<br>Month=%{x}<br>Total Investment (in crores)=%{y}<extra></extra>",
         "legendgroup": "R&D",
         "line": {
          "color": "#FFA15A",
          "dash": "solid"
         },
         "marker": {
          "symbol": "circle"
         },
         "mode": "lines",
         "name": "R&D",
         "orientation": "v",
         "showlegend": true,
         "type": "scatter",
         "x": [
          "2020-01-01T00:00:00",
          "2020-01-02T00:00:00",
          "2020-01-03T00:00:00",
          "2020-01-04T00:00:00",
          "2020-01-06T00:00:00",
          "2020-01-07T00:00:00",
          "2020-01-08T00:00:00",
          "2020-01-09T00:00:00",
          "2020-01-10T00:00:00",
          "2020-01-11T00:00:00",
          "2020-01-12T00:00:00",
          "2021-01-01T00:00:00",
          "2021-01-02T00:00:00",
          "2021-01-03T00:00:00",
          "2021-01-04T00:00:00",
          "2021-01-05T00:00:00",
          "2021-01-06T00:00:00",
          "2021-01-07T00:00:00",
          "2021-01-08T00:00:00",
          "2021-01-09T00:00:00",
          "2021-01-10T00:00:00",
          "2021-01-11T00:00:00",
          "2021-01-12T00:00:00",
          "2022-01-01T00:00:00",
          "2022-01-02T00:00:00",
          "2022-01-03T00:00:00",
          "2022-01-04T00:00:00",
          "2022-01-05T00:00:00",
          "2022-01-06T00:00:00",
          "2022-01-07T00:00:00",
          "2022-01-08T00:00:00",
          "2022-01-09T00:00:00",
          "2022-01-10T00:00:00",
          "2022-01-11T00:00:00",
          "2022-01-12T00:00:00",
          "2023-01-01T00:00:00",
          "2023-01-02T00:00:00",
          "2023-01-03T00:00:00"
         ],
         "xaxis": "x",
         "y": [
          14.3531,
          63.68,
          3.5,
          4.9754,
          40.1726,
          2.35,
          3.5153999999999996,
          6.025,
          3.0325,
          5.251,
          12.265,
          2.8499999999999996,
          73.625,
          134.815,
          108.9381,
          112.61000000000001,
          6.5937,
          0.25,
          8.411,
          4.0387,
          2.7462,
          18.0346,
          3.09,
          3.36,
          277.5483,
          331.0958,
          432.7276,
          34.376599999999996,
          151.44029999999998,
          121.9494,
          177.8312,
          248.86849999999998,
          17.6545,
          17.95,
          14.9253,
          208.87310000000002,
          48.9854,
          9.3208
         ],
         "yaxis": "y"
        },
        {
         "hovertemplate": "sector=Real Estate,Industrial Parks and IT Buildings<br>Month=%{x}<br>Total Investment (in crores)=%{y}<extra></extra>",
         "legendgroup": "Real Estate,Industrial Parks and IT Buildings",
         "line": {
          "color": "#19d3f3",
          "dash": "solid"
         },
         "marker": {
          "symbol": "circle"
         },
         "mode": "lines",
         "name": "Real Estate,Industrial Parks and IT Buildings",
         "orientation": "v",
         "showlegend": true,
         "type": "scatter",
         "x": [
          "2020-01-01T00:00:00",
          "2020-01-02T00:00:00",
          "2020-01-03T00:00:00",
          "2020-01-07T00:00:00",
          "2021-01-01T00:00:00",
          "2021-01-02T00:00:00",
          "2021-01-03T00:00:00",
          "2021-01-06T00:00:00",
          "2021-01-10T00:00:00",
          "2022-01-03T00:00:00",
          "2022-01-07T00:00:00",
          "2022-01-08T00:00:00",
          "2022-01-11T00:00:00"
         ],
         "xaxis": "x",
         "y": [
          394,
          17843.3508,
          1536.04,
          149,
          1003.17,
          0,
          0,
          0.75,
          151.556,
          1862.9559,
          0.2263,
          1517.07,
          610
         ],
         "yaxis": "y"
        },
        {
         "hovertemplate": "sector=Solar and Other Renewable Energy<br>Month=%{x}<br>Total Investment (in crores)=%{y}<extra></extra>",
         "legendgroup": "Solar and Other Renewable Energy",
         "line": {
          "color": "#FF6692",
          "dash": "solid"
         },
         "marker": {
          "symbol": "circle"
         },
         "mode": "lines",
         "name": "Solar and Other Renewable Energy",
         "orientation": "v",
         "showlegend": true,
         "type": "scatter",
         "x": [
          "2020-01-01T00:00:00",
          "2020-01-03T00:00:00",
          "2020-01-06T00:00:00",
          "2020-01-08T00:00:00",
          "2020-01-10T00:00:00",
          "2020-01-11T00:00:00",
          "2020-01-12T00:00:00",
          "2021-01-01T00:00:00",
          "2021-01-02T00:00:00",
          "2021-01-04T00:00:00",
          "2021-01-06T00:00:00",
          "2021-01-09T00:00:00",
          "2021-01-11T00:00:00",
          "2022-01-03T00:00:00",
          "2022-01-04T00:00:00",
          "2022-01-05T00:00:00",
          "2022-01-06T00:00:00",
          "2022-01-07T00:00:00",
          "2022-01-08T00:00:00",
          "2022-01-09T00:00:00",
          "2023-01-01T00:00:00"
         ],
         "xaxis": "x",
         "y": [
          19.87,
          0.95,
          746.24,
          19.87,
          0.77,
          2000.5027,
          42.42,
          224.98,
          4.3574,
          1.12,
          0.25,
          4.3408,
          7.7,
          150.613,
          856.0659999999999,
          98.4048,
          362.989,
          326.097,
          2.3,
          405.1282,
          2
         ],
         "yaxis": "y"
        },
        {
         "hovertemplate": "sector=Textiles<br>Month=%{x}<br>Total Investment (in crores)=%{y}<extra></extra>",
         "legendgroup": "Textiles",
         "line": {
          "color": "#B6E880",
          "dash": "solid"
         },
         "marker": {
          "symbol": "circle"
         },
         "mode": "lines",
         "name": "Textiles",
         "orientation": "v",
         "showlegend": true,
         "type": "scatter",
         "x": [
          "2020-01-01T00:00:00",
          "2020-01-02T00:00:00",
          "2020-01-03T00:00:00",
          "2020-01-06T00:00:00",
          "2020-01-07T00:00:00",
          "2020-01-08T00:00:00",
          "2020-01-09T00:00:00",
          "2020-01-10T00:00:00",
          "2020-01-11T00:00:00",
          "2020-01-12T00:00:00",
          "2021-01-01T00:00:00",
          "2021-01-02T00:00:00",
          "2021-01-03T00:00:00",
          "2021-01-04T00:00:00",
          "2021-01-05T00:00:00",
          "2021-01-06T00:00:00",
          "2021-01-07T00:00:00",
          "2021-01-08T00:00:00",
          "2021-01-09T00:00:00",
          "2021-01-10T00:00:00",
          "2021-01-11T00:00:00",
          "2021-01-12T00:00:00",
          "2022-01-01T00:00:00",
          "2022-01-02T00:00:00",
          "2022-01-03T00:00:00",
          "2022-01-04T00:00:00",
          "2022-01-05T00:00:00",
          "2022-01-06T00:00:00",
          "2022-01-07T00:00:00",
          "2022-01-08T00:00:00",
          "2022-01-09T00:00:00",
          "2022-01-10T00:00:00",
          "2022-01-11T00:00:00",
          "2022-01-12T00:00:00",
          "2023-01-01T00:00:00",
          "2023-01-02T00:00:00",
          "2023-01-03T00:00:00"
         ],
         "xaxis": "x",
         "y": [
          30.183600000000002,
          24.7725,
          8.647,
          22.98,
          16.8292,
          14.116999999999999,
          539.8999,
          70.7613,
          2.276,
          7.5022,
          29.973000000000003,
          8.7345,
          4.1342,
          9.0165,
          15.793,
          8.8199,
          30.0171,
          1.74,
          4.2059999999999995,
          0.33999999999999997,
          36.0877,
          2.2,
          2.9168,
          21.7776,
          29.4574,
          3.2679,
          8.3922,
          8.998999999999999,
          5.1328000000000005,
          83.2539,
          0.862,
          7.8629,
          0.47,
          32.8003,
          0.25,
          0.8799999999999999,
          23.9759
         ],
         "yaxis": "y"
        },
        {
         "hovertemplate": "sector=Wood and Leather<br>Month=%{x}<br>Total Investment (in crores)=%{y}<extra></extra>",
         "legendgroup": "Wood and Leather",
         "line": {
          "color": "#FF97FF",
          "dash": "solid"
         },
         "marker": {
          "symbol": "circle"
         },
         "mode": "lines",
         "name": "Wood and Leather",
         "orientation": "v",
         "showlegend": true,
         "type": "scatter",
         "x": [
          "2020-01-01T00:00:00",
          "2020-01-02T00:00:00",
          "2020-01-03T00:00:00",
          "2020-01-04T00:00:00",
          "2020-01-05T00:00:00",
          "2020-01-06T00:00:00",
          "2020-01-07T00:00:00",
          "2020-01-08T00:00:00",
          "2020-01-09T00:00:00",
          "2020-01-10T00:00:00",
          "2020-01-11T00:00:00",
          "2020-01-12T00:00:00",
          "2021-01-01T00:00:00",
          "2021-01-02T00:00:00",
          "2021-01-03T00:00:00",
          "2021-01-04T00:00:00",
          "2021-01-05T00:00:00",
          "2021-01-06T00:00:00",
          "2021-01-07T00:00:00",
          "2021-01-08T00:00:00",
          "2021-01-09T00:00:00",
          "2021-01-10T00:00:00",
          "2021-01-11T00:00:00",
          "2021-01-12T00:00:00",
          "2022-01-01T00:00:00",
          "2022-01-02T00:00:00",
          "2022-01-03T00:00:00",
          "2022-01-04T00:00:00",
          "2022-01-05T00:00:00",
          "2022-01-06T00:00:00",
          "2022-01-07T00:00:00",
          "2022-01-08T00:00:00",
          "2022-01-09T00:00:00",
          "2022-01-11T00:00:00",
          "2022-01-12T00:00:00",
          "2023-01-01T00:00:00",
          "2023-01-02T00:00:00",
          "2023-01-03T00:00:00"
         ],
         "xaxis": "x",
         "y": [
          4.23,
          0.755,
          1.022,
          0.475,
          0.2425,
          5.0896,
          0.101,
          3.5244999999999997,
          2.604,
          0.6303,
          2.2885,
          2.1774,
          4.6398,
          1.072,
          1.2418,
          3.442,
          0.7,
          2.12,
          1.6520000000000001,
          0.9899999999999999,
          8.9034,
          1.1536,
          1.2462,
          1.6890999999999998,
          6.6929,
          3.5728,
          1.87,
          1.147,
          1.165,
          1.98,
          8.3016,
          1.5393,
          25.8829,
          6.331499999999999,
          4.8838,
          6.8386,
          4.737,
          1.1696
         ],
         "yaxis": "y"
        }
       ],
       "layout": {
        "legend": {
         "title": {
          "text": "Sector"
         },
         "tracegroupgap": 0
        },
        "template": {
         "data": {
          "bar": [
           {
            "error_x": {
             "color": "#2a3f5f"
            },
            "error_y": {
             "color": "#2a3f5f"
            },
            "marker": {
             "line": {
              "color": "#E5ECF6",
              "width": 0.5
             },
             "pattern": {
              "fillmode": "overlay",
              "size": 10,
              "solidity": 0.2
             }
            },
            "type": "bar"
           }
          ],
          "barpolar": [
           {
            "marker": {
             "line": {
              "color": "#E5ECF6",
              "width": 0.5
             },
             "pattern": {
              "fillmode": "overlay",
              "size": 10,
              "solidity": 0.2
             }
            },
            "type": "barpolar"
           }
          ],
          "carpet": [
           {
            "aaxis": {
             "endlinecolor": "#2a3f5f",
             "gridcolor": "white",
             "linecolor": "white",
             "minorgridcolor": "white",
             "startlinecolor": "#2a3f5f"
            },
            "baxis": {
             "endlinecolor": "#2a3f5f",
             "gridcolor": "white",
             "linecolor": "white",
             "minorgridcolor": "white",
             "startlinecolor": "#2a3f5f"
            },
            "type": "carpet"
           }
          ],
          "choropleth": [
           {
            "colorbar": {
             "outlinewidth": 0,
             "ticks": ""
            },
            "type": "choropleth"
           }
          ],
          "contour": [
           {
            "colorbar": {
             "outlinewidth": 0,
             "ticks": ""
            },
            "colorscale": [
             [
              0,
              "#0d0887"
             ],
             [
              0.1111111111111111,
              "#46039f"
             ],
             [
              0.2222222222222222,
              "#7201a8"
             ],
             [
              0.3333333333333333,
              "#9c179e"
             ],
             [
              0.4444444444444444,
              "#bd3786"
             ],
             [
              0.5555555555555556,
              "#d8576b"
             ],
             [
              0.6666666666666666,
              "#ed7953"
             ],
             [
              0.7777777777777778,
              "#fb9f3a"
             ],
             [
              0.8888888888888888,
              "#fdca26"
             ],
             [
              1,
              "#f0f921"
             ]
            ],
            "type": "contour"
           }
          ],
          "contourcarpet": [
           {
            "colorbar": {
             "outlinewidth": 0,
             "ticks": ""
            },
            "type": "contourcarpet"
           }
          ],
          "heatmap": [
           {
            "colorbar": {
             "outlinewidth": 0,
             "ticks": ""
            },
            "colorscale": [
             [
              0,
              "#0d0887"
             ],
             [
              0.1111111111111111,
              "#46039f"
             ],
             [
              0.2222222222222222,
              "#7201a8"
             ],
             [
              0.3333333333333333,
              "#9c179e"
             ],
             [
              0.4444444444444444,
              "#bd3786"
             ],
             [
              0.5555555555555556,
              "#d8576b"
             ],
             [
              0.6666666666666666,
              "#ed7953"
             ],
             [
              0.7777777777777778,
              "#fb9f3a"
             ],
             [
              0.8888888888888888,
              "#fdca26"
             ],
             [
              1,
              "#f0f921"
             ]
            ],
            "type": "heatmap"
           }
          ],
          "heatmapgl": [
           {
            "colorbar": {
             "outlinewidth": 0,
             "ticks": ""
            },
            "colorscale": [
             [
              0,
              "#0d0887"
             ],
             [
              0.1111111111111111,
              "#46039f"
             ],
             [
              0.2222222222222222,
              "#7201a8"
             ],
             [
              0.3333333333333333,
              "#9c179e"
             ],
             [
              0.4444444444444444,
              "#bd3786"
             ],
             [
              0.5555555555555556,
              "#d8576b"
             ],
             [
              0.6666666666666666,
              "#ed7953"
             ],
             [
              0.7777777777777778,
              "#fb9f3a"
             ],
             [
              0.8888888888888888,
              "#fdca26"
             ],
             [
              1,
              "#f0f921"
             ]
            ],
            "type": "heatmapgl"
           }
          ],
          "histogram": [
           {
            "marker": {
             "pattern": {
              "fillmode": "overlay",
              "size": 10,
              "solidity": 0.2
             }
            },
            "type": "histogram"
           }
          ],
          "histogram2d": [
           {
            "colorbar": {
             "outlinewidth": 0,
             "ticks": ""
            },
            "colorscale": [
             [
              0,
              "#0d0887"
             ],
             [
              0.1111111111111111,
              "#46039f"
             ],
             [
              0.2222222222222222,
              "#7201a8"
             ],
             [
              0.3333333333333333,
              "#9c179e"
             ],
             [
              0.4444444444444444,
              "#bd3786"
             ],
             [
              0.5555555555555556,
              "#d8576b"
             ],
             [
              0.6666666666666666,
              "#ed7953"
             ],
             [
              0.7777777777777778,
              "#fb9f3a"
             ],
             [
              0.8888888888888888,
              "#fdca26"
             ],
             [
              1,
              "#f0f921"
             ]
            ],
            "type": "histogram2d"
           }
          ],
          "histogram2dcontour": [
           {
            "colorbar": {
             "outlinewidth": 0,
             "ticks": ""
            },
            "colorscale": [
             [
              0,
              "#0d0887"
             ],
             [
              0.1111111111111111,
              "#46039f"
             ],
             [
              0.2222222222222222,
              "#7201a8"
             ],
             [
              0.3333333333333333,
              "#9c179e"
             ],
             [
              0.4444444444444444,
              "#bd3786"
             ],
             [
              0.5555555555555556,
              "#d8576b"
             ],
             [
              0.6666666666666666,
              "#ed7953"
             ],
             [
              0.7777777777777778,
              "#fb9f3a"
             ],
             [
              0.8888888888888888,
              "#fdca26"
             ],
             [
              1,
              "#f0f921"
             ]
            ],
            "type": "histogram2dcontour"
           }
          ],
          "mesh3d": [
           {
            "colorbar": {
             "outlinewidth": 0,
             "ticks": ""
            },
            "type": "mesh3d"
           }
          ],
          "parcoords": [
           {
            "line": {
             "colorbar": {
              "outlinewidth": 0,
              "ticks": ""
             }
            },
            "type": "parcoords"
           }
          ],
          "pie": [
           {
            "automargin": true,
            "type": "pie"
           }
          ],
          "scatter": [
           {
            "fillpattern": {
             "fillmode": "overlay",
             "size": 10,
             "solidity": 0.2
            },
            "type": "scatter"
           }
          ],
          "scatter3d": [
           {
            "line": {
             "colorbar": {
              "outlinewidth": 0,
              "ticks": ""
             }
            },
            "marker": {
             "colorbar": {
              "outlinewidth": 0,
              "ticks": ""
             }
            },
            "type": "scatter3d"
           }
          ],
          "scattercarpet": [
           {
            "marker": {
             "colorbar": {
              "outlinewidth": 0,
              "ticks": ""
             }
            },
            "type": "scattercarpet"
           }
          ],
          "scattergeo": [
           {
            "marker": {
             "colorbar": {
              "outlinewidth": 0,
              "ticks": ""
             }
            },
            "type": "scattergeo"
           }
          ],
          "scattergl": [
           {
            "marker": {
             "colorbar": {
              "outlinewidth": 0,
              "ticks": ""
             }
            },
            "type": "scattergl"
           }
          ],
          "scattermapbox": [
           {
            "marker": {
             "colorbar": {
              "outlinewidth": 0,
              "ticks": ""
             }
            },
            "type": "scattermapbox"
           }
          ],
          "scatterpolar": [
           {
            "marker": {
             "colorbar": {
              "outlinewidth": 0,
              "ticks": ""
             }
            },
            "type": "scatterpolar"
           }
          ],
          "scatterpolargl": [
           {
            "marker": {
             "colorbar": {
              "outlinewidth": 0,
              "ticks": ""
             }
            },
            "type": "scatterpolargl"
           }
          ],
          "scatterternary": [
           {
            "marker": {
             "colorbar": {
              "outlinewidth": 0,
              "ticks": ""
             }
            },
            "type": "scatterternary"
           }
          ],
          "surface": [
           {
            "colorbar": {
             "outlinewidth": 0,
             "ticks": ""
            },
            "colorscale": [
             [
              0,
              "#0d0887"
             ],
             [
              0.1111111111111111,
              "#46039f"
             ],
             [
              0.2222222222222222,
              "#7201a8"
             ],
             [
              0.3333333333333333,
              "#9c179e"
             ],
             [
              0.4444444444444444,
              "#bd3786"
             ],
             [
              0.5555555555555556,
              "#d8576b"
             ],
             [
              0.6666666666666666,
              "#ed7953"
             ],
             [
              0.7777777777777778,
              "#fb9f3a"
             ],
             [
              0.8888888888888888,
              "#fdca26"
             ],
             [
              1,
              "#f0f921"
             ]
            ],
            "type": "surface"
           }
          ],
          "table": [
           {
            "cells": {
             "fill": {
              "color": "#EBF0F8"
             },
             "line": {
              "color": "white"
             }
            },
            "header": {
             "fill": {
              "color": "#C8D4E3"
             },
             "line": {
              "color": "white"
             }
            },
            "type": "table"
           }
          ]
         },
         "layout": {
          "annotationdefaults": {
           "arrowcolor": "#2a3f5f",
           "arrowhead": 0,
           "arrowwidth": 1
          },
          "autotypenumbers": "strict",
          "coloraxis": {
           "colorbar": {
            "outlinewidth": 0,
            "ticks": ""
           }
          },
          "colorscale": {
           "diverging": [
            [
             0,
             "#8e0152"
            ],
            [
             0.1,
             "#c51b7d"
            ],
            [
             0.2,
             "#de77ae"
            ],
            [
             0.3,
             "#f1b6da"
            ],
            [
             0.4,
             "#fde0ef"
            ],
            [
             0.5,
             "#f7f7f7"
            ],
            [
             0.6,
             "#e6f5d0"
            ],
            [
             0.7,
             "#b8e186"
            ],
            [
             0.8,
             "#7fbc41"
            ],
            [
             0.9,
             "#4d9221"
            ],
            [
             1,
             "#276419"
            ]
           ],
           "sequential": [
            [
             0,
             "#0d0887"
            ],
            [
             0.1111111111111111,
             "#46039f"
            ],
            [
             0.2222222222222222,
             "#7201a8"
            ],
            [
             0.3333333333333333,
             "#9c179e"
            ],
            [
             0.4444444444444444,
             "#bd3786"
            ],
            [
             0.5555555555555556,
             "#d8576b"
            ],
            [
             0.6666666666666666,
             "#ed7953"
            ],
            [
             0.7777777777777778,
             "#fb9f3a"
            ],
            [
             0.8888888888888888,
             "#fdca26"
            ],
            [
             1,
             "#f0f921"
            ]
           ],
           "sequentialminus": [
            [
             0,
             "#0d0887"
            ],
            [
             0.1111111111111111,
             "#46039f"
            ],
            [
             0.2222222222222222,
             "#7201a8"
            ],
            [
             0.3333333333333333,
             "#9c179e"
            ],
            [
             0.4444444444444444,
             "#bd3786"
            ],
            [
             0.5555555555555556,
             "#d8576b"
            ],
            [
             0.6666666666666666,
             "#ed7953"
            ],
            [
             0.7777777777777778,
             "#fb9f3a"
            ],
            [
             0.8888888888888888,
             "#fdca26"
            ],
            [
             1,
             "#f0f921"
            ]
           ]
          },
          "colorway": [
           "#636efa",
           "#EF553B",
           "#00cc96",
           "#ab63fa",
           "#FFA15A",
           "#19d3f3",
           "#FF6692",
           "#B6E880",
           "#FF97FF",
           "#FECB52"
          ],
          "font": {
           "color": "#2a3f5f"
          },
          "geo": {
           "bgcolor": "white",
           "lakecolor": "white",
           "landcolor": "#E5ECF6",
           "showlakes": true,
           "showland": true,
           "subunitcolor": "white"
          },
          "hoverlabel": {
           "align": "left"
          },
          "hovermode": "closest",
          "mapbox": {
           "style": "light"
          },
          "paper_bgcolor": "white",
          "plot_bgcolor": "#E5ECF6",
          "polar": {
           "angularaxis": {
            "gridcolor": "white",
            "linecolor": "white",
            "ticks": ""
           },
           "bgcolor": "#E5ECF6",
           "radialaxis": {
            "gridcolor": "white",
            "linecolor": "white",
            "ticks": ""
           }
          },
          "scene": {
           "xaxis": {
            "backgroundcolor": "#E5ECF6",
            "gridcolor": "white",
            "gridwidth": 2,
            "linecolor": "white",
            "showbackground": true,
            "ticks": "",
            "zerolinecolor": "white"
           },
           "yaxis": {
            "backgroundcolor": "#E5ECF6",
            "gridcolor": "white",
            "gridwidth": 2,
            "linecolor": "white",
            "showbackground": true,
            "ticks": "",
            "zerolinecolor": "white"
           },
           "zaxis": {
            "backgroundcolor": "#E5ECF6",
            "gridcolor": "white",
            "gridwidth": 2,
            "linecolor": "white",
            "showbackground": true,
            "ticks": "",
            "zerolinecolor": "white"
           }
          },
          "shapedefaults": {
           "line": {
            "color": "#2a3f5f"
           }
          },
          "ternary": {
           "aaxis": {
            "gridcolor": "white",
            "linecolor": "white",
            "ticks": ""
           },
           "baxis": {
            "gridcolor": "white",
            "linecolor": "white",
            "ticks": ""
           },
           "bgcolor": "#E5ECF6",
           "caxis": {
            "gridcolor": "white",
            "linecolor": "white",
            "ticks": ""
           }
          },
          "title": {
           "x": 0.05
          },
          "xaxis": {
           "automargin": true,
           "gridcolor": "white",
           "linecolor": "white",
           "ticks": "",
           "title": {
            "standoff": 15
           },
           "zerolinecolor": "white",
           "zerolinewidth": 2
          },
          "yaxis": {
           "automargin": true,
           "gridcolor": "white",
           "linecolor": "white",
           "ticks": "",
           "title": {
            "standoff": 15
           },
           "zerolinecolor": "white",
           "zerolinewidth": 2
          }
         }
        },
        "title": {
         "text": "Investment Trends by Sector"
        },
        "xaxis": {
         "anchor": "y",
         "domain": [
          0,
          1
         ],
         "tickangle": 45,
         "title": {
          "text": "Month"
         }
        },
        "yaxis": {
         "anchor": "x",
         "domain": [
          0,
          1
         ],
         "title": {
          "text": "Total Investment (in crores)"
         }
        }
       }
      }
     },
     "metadata": {},
     "output_type": "display_data"
    }
   ],
   "source": [
    "# Create a line chart using Plotly\n",
    "fig = px.line(grouped, x='month', y='investment in cr', color='sector',\n",
    "              title='Investment Trends by Sector',\n",
    "              labels={'month': 'Month', 'investment in cr': 'Total Investment (in crores)'})\n",
    "\n",
    "# Customize the appearance of the plot\n",
    "fig.update_layout(legend_title_text='Sector')\n",
    "fig.update_xaxes(tickangle=45)\n",
    "\n",
    "# Show the plot\n",
    "fig.show()"
   ]
  },
  {
   "cell_type": "code",
   "execution_count": 56,
   "metadata": {},
   "outputs": [],
   "source": [
    "#To find the relationship between investment, vehicle sales and stamp revenue,\n",
    "stamps = pd.read_csv(r\"D:\\C7 Input Files\\dataset\\fact_stamps.csv\")"
   ]
  },
  {
   "cell_type": "code",
   "execution_count": 60,
   "metadata": {},
   "outputs": [],
   "source": [
    "stamps['month'] = pd.to_datetime(stamps['month'],format='%Y-%m-%d')"
   ]
  },
  {
   "cell_type": "code",
   "execution_count": 63,
   "metadata": {},
   "outputs": [],
   "source": [
    "merged_stamp = pd.merge(district, stamps, on='dist_code', how='outer')"
   ]
  },
  {
   "cell_type": "code",
   "execution_count": 61,
   "metadata": {},
   "outputs": [],
   "source": [
    "# Filter data for FY 2021 and FY 2022\n",
    "start_date = pd.Timestamp('2021-04-01')\n",
    "end_date = pd.Timestamp('2022-03-31')"
   ]
  },
  {
   "cell_type": "code",
   "execution_count": 64,
   "metadata": {},
   "outputs": [],
   "source": [
    "df_investments_filtered = merged_lpass[(merged_lpass['month'] >= start_date) & (merged_lpass['month'] <= end_date)]\n",
    "df_stamps_revenue_filtered = merged_stamp[(merged_stamp['month'] >= start_date) & (merged_stamp['month'] <= end_date)]"
   ]
  },
  {
   "cell_type": "code",
   "execution_count": 67,
   "metadata": {},
   "outputs": [],
   "source": [
    "# Merge dataframes based on district and month\n",
    "merged_data = pd.merge(df_investments_filtered, df_stamps_revenue_filtered, on=['district', 'month'])"
   ]
  },
  {
   "cell_type": "code",
   "execution_count": 69,
   "metadata": {},
   "outputs": [],
   "source": [
    "# Calculate correlation matrix\n",
    "correlation_matrix = merged_data[['investment in cr', 'estamps_challans_rev']].corr()"
   ]
  },
  {
   "cell_type": "code",
   "execution_count": 70,
   "metadata": {},
   "outputs": [
    {
     "data": {
      "text/html": [
       "<div>\n",
       "<style scoped>\n",
       "    .dataframe tbody tr th:only-of-type {\n",
       "        vertical-align: middle;\n",
       "    }\n",
       "\n",
       "    .dataframe tbody tr th {\n",
       "        vertical-align: top;\n",
       "    }\n",
       "\n",
       "    .dataframe thead th {\n",
       "        text-align: right;\n",
       "    }\n",
       "</style>\n",
       "<table border=\"1\" class=\"dataframe\">\n",
       "  <thead>\n",
       "    <tr style=\"text-align: right;\">\n",
       "      <th></th>\n",
       "      <th>investment in cr</th>\n",
       "      <th>estamps_challans_rev</th>\n",
       "    </tr>\n",
       "  </thead>\n",
       "  <tbody>\n",
       "    <tr>\n",
       "      <th>investment in cr</th>\n",
       "      <td>1.000000</td>\n",
       "      <td>-0.032878</td>\n",
       "    </tr>\n",
       "    <tr>\n",
       "      <th>estamps_challans_rev</th>\n",
       "      <td>-0.032878</td>\n",
       "      <td>1.000000</td>\n",
       "    </tr>\n",
       "  </tbody>\n",
       "</table>\n",
       "</div>"
      ],
      "text/plain": [
       "                      investment in cr  estamps_challans_rev\n",
       "investment in cr              1.000000             -0.032878\n",
       "estamps_challans_rev         -0.032878              1.000000"
      ]
     },
     "execution_count": 70,
     "metadata": {},
     "output_type": "execute_result"
    }
   ],
   "source": [
    "correlation_matrix"
   ]
  },
  {
   "cell_type": "code",
   "execution_count": 72,
   "metadata": {},
   "outputs": [
    {
     "data": {
      "image/png": "[encoded data removed]",
      "text/plain": [
       "<Figure size 800x600 with 2 Axes>"
      ]
     },
     "metadata": {},
     "output_type": "display_data"
    }
   ],
   "source": [
    "# Visualize the correlation matrix as a heatmap\n",
    "plt.figure(figsize=(8, 6))\n",
    "sns.heatmap(correlation_matrix, annot=True, cmap='coolwarm', center=0)\n",
    "plt.title('Correlation Heatmap')\n",
    "plt.show()"
   ]
  },
  {
   "cell_type": "markdown",
   "metadata": {},
   "source": [
    "There is no relation between investment and challan revenue."
   ]
  }
 ],
 "metadata": {
  "kernelspec": {
   "display_name": "Python 3",
   "language": "python",
   "name": "python3"
  },
  "language_info": {
   "codemirror_mode": {
    "name": "ipython",
    "version": 3
   },
   "file_extension": ".py",
   "mimetype": "text/x-python",
   "name": "python",
   "nbconvert_exporter": "python",
   "pygments_lexer": "ipython3",
   "version": "3.11.3"
  },
  "orig_nbformat": 4
 },
 "nbformat": 4,
 "nbformat_minor": 2
}
